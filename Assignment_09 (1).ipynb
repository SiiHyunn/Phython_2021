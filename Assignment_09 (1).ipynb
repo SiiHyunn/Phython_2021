{
 "cells": [
  {
   "cell_type": "code",
   "execution_count": 1,
   "id": "7d20db08",
   "metadata": {},
   "outputs": [
    {
     "name": "stdout",
     "output_type": "stream",
     "text": [
      "[ 1  2  3  4  5  6  7  8  9 10]\n"
     ]
    }
   ],
   "source": [
    "import numpy as np\n",
    "\n",
    "a = np.arange(1,11)\n",
    "print(a)"
   ]
  },
  {
   "cell_type": "code",
   "execution_count": 2,
   "id": "5e8d2d24",
   "metadata": {},
   "outputs": [
    {
     "name": "stdout",
     "output_type": "stream",
     "text": [
      "[10  9  8  7  6  5  4  3  2  1]\n"
     ]
    }
   ],
   "source": [
    "a = a[::-1]\n",
    "print(a)"
   ]
  },
  {
   "cell_type": "code",
   "execution_count": 3,
   "id": "c301edce",
   "metadata": {},
   "outputs": [
    {
     "name": "stdout",
     "output_type": "stream",
     "text": [
      "[[10  9  8  7  6]\n",
      " [ 5  4  3  2  1]]\n"
     ]
    }
   ],
   "source": [
    "a = np.reshape(a,(2,5))\n",
    "print(a)"
   ]
  },
  {
   "cell_type": "code",
   "execution_count": 4,
   "id": "1a2294dc",
   "metadata": {},
   "outputs": [
    {
     "name": "stdout",
     "output_type": "stream",
     "text": [
      "[[10  9]\n",
      " [ 8  7]\n",
      " [ 6  5]\n",
      " [ 4  3]\n",
      " [ 2  1]]\n"
     ]
    }
   ],
   "source": [
    "a = np.reshape(a,(5,2))\n",
    "print(a)"
   ]
  },
  {
   "cell_type": "code",
   "execution_count": 5,
   "id": "5850e2b6",
   "metadata": {},
   "outputs": [
    {
     "name": "stdout",
     "output_type": "stream",
     "text": [
      "a = [0.60817534 0.0318628  0.54900507 0.38512083 0.11986228 0.24582547\n",
      " 0.44059216 0.80953905 0.78517182 0.08852287]\n",
      "최댓값 : 0.8095390542804469\n",
      "최솟값 : 0.03186280440310996\n",
      "평균값 : 0.4063677713267431\n"
     ]
    }
   ],
   "source": [
    "import random\n",
    "\n",
    "a = np.array([])\n",
    "\n",
    "for i in range(10):\n",
    "    a = np.append(a, np.random.random())\n",
    "    \n",
    "print('a =',a)\n",
    "print('최댓값 :', max(a))\n",
    "print('최솟값 :', min(a))\n",
    "print('평균값 :', a.mean())"
   ]
  },
  {
   "cell_type": "code",
   "execution_count": 6,
   "id": "35c279e1",
   "metadata": {},
   "outputs": [
    {
     "name": "stdout",
     "output_type": "stream",
     "text": [
      "n을 입력하시오 : 5\n",
      "[[1 0 0 0 0]\n",
      " [0 2 0 0 0]\n",
      " [0 0 3 0 0]\n",
      " [0 0 0 4 0]\n",
      " [0 0 0 0 5]]\n"
     ]
    }
   ],
   "source": [
    "n = int(input('n을 입력하시오 : '))\n",
    "\n",
    "arr1 = np.diag(1+np.arange(n))\n",
    "print(arr1)"
   ]
  },
  {
   "cell_type": "code",
   "execution_count": 7,
   "id": "a6907330",
   "metadata": {},
   "outputs": [
    {
     "name": "stdout",
     "output_type": "stream",
     "text": [
      "a 배열 :  [ 0 10 20 40 60 80]\n",
      "b 배열 :  [ 0 20]\n",
      "a - b : [10 40 60 80]\n"
     ]
    }
   ],
   "source": [
    "a = np.array([0, 10, 20, 40, 60, 80])\n",
    "b = np.array([0, 20])\n",
    "\n",
    "c = np.setdiff1d(a, b)\n",
    "\n",
    "print('a 배열 : ', a)\n",
    "print('b 배열 : ', b)\n",
    "print('a - b :', c)"
   ]
  },
  {
   "cell_type": "code",
   "execution_count": 8,
   "id": "afb2fcc3",
   "metadata": {},
   "outputs": [
    {
     "name": "stdout",
     "output_type": "stream",
     "text": [
      "n을 입력하시오 : 5\n",
      "[[1 0 0 0 0]\n",
      " [1 1 0 0 0]\n",
      " [1 1 1 0 0]\n",
      " [1 1 1 1 0]\n",
      " [1 1 1 1 1]]\n",
      "행렬의 모든 원소의 합: 15\n",
      "행렬의 행 방향 성분의 합: [5 4 3 2 1]\n",
      "행렬의 열 방향 성분의 합: [1 2 3 4 5]\n"
     ]
    }
   ],
   "source": [
    "n = int(input('n을 입력하시오 : '))\n",
    "\n",
    "m = np.ones((n,n), dtype=np.int8)\n",
    "a = np.tril(m)\n",
    "print(a)\n",
    "print('행렬의 모든 원소의 합:',a.sum())\n",
    "print('행렬의 행 방향 성분의 합:',a.sum(axis=0))\n",
    "print('행렬의 열 방향 성분의 합:',a.sum(axis=1))"
   ]
  },
  {
   "cell_type": "code",
   "execution_count": 164,
   "id": "e6be4692",
   "metadata": {},
   "outputs": [
    {
     "name": "stdout",
     "output_type": "stream",
     "text": [
      "   Rank                         Title       Studio       Gross  Year\n",
      "0     1             Avengers: Endgame  Buena Vista  $2,796.30   2019\n",
      "1     2                        Avatar          Fox  $2,789.70   2009\n",
      "2     3                       Titanic    Paramount  $2,187.50   1997\n",
      "3     4  Star Wars: The Force Awakens  Buena Vista  $2,068.20   2015\n",
      "4     5        Avengers: Infinity War  Buena Vista  $2,048.40   2018\n",
      "5     6                Jurassic World    Universal  $1,671.70   2015\n",
      "6     7         Marvel's The Avengers  Buena Vista  $1,518.80   2012\n",
      "7     8                     Furious 7    Universal  $1,516.00   2015\n",
      "8     9       Avengers: Age of Ultron  Buena Vista  $1,405.40   2015\n",
      "9    10                 Black Panther  Buena Vista  $1,346.90   2018\n",
      "     Rank                         Title           Studio     Gross  Year\n",
      "772   773        Fun with Dick and Jane             Sony  $202.00   2005\n",
      "773   774  Teenage Mutant Ninja Turtles         New Line  $202.00   1990\n",
      "774   775              Kindergarten Cop        Universal  $202.00   1990\n",
      "775   776        Straight Outta Compton        Universal  $201.60   2015\n",
      "776   777                21 Jump Street             Sony  $201.60   2012\n",
      "777   778                     Yogi Bear  Warner Brothers  $201.60   2010\n",
      "778   779           Garfield: The Movie              Fox  $200.80   2004\n",
      "779   780                   Cats & Dogs  Warner Brothers  $200.70   2001\n",
      "780   781      The Hunt for Red October        Paramount  $200.50   1990\n",
      "781   782                      Valkyrie              MGM  $200.30   2008\n"
     ]
    }
   ],
   "source": [
    "import pandas as pd\n",
    "\n",
    "movies = pd.read_csv('C:/Users/Python/movies.csv')\n",
    "movies = pd.DataFrame(movies)\n",
    "print(movies[:10])\n",
    "print(movies[-10:])"
   ]
  },
  {
   "cell_type": "code",
   "execution_count": 10,
   "id": "0a3173bf",
   "metadata": {},
   "outputs": [
    {
     "name": "stdout",
     "output_type": "stream",
     "text": [
      "행 개수 : 782\n",
      "열 개수 : 5\n"
     ]
    }
   ],
   "source": [
    "print('행 개수 :', movies.shape[0])\n",
    "print('열 개수 :', movies.shape[1])"
   ]
  },
  {
   "cell_type": "code",
   "execution_count": 11,
   "id": "b7e0ba79",
   "metadata": {},
   "outputs": [
    {
     "data": {
      "text/plain": [
       "Rank       int64\n",
       "Title     object\n",
       "Studio    object\n",
       "Gross     object\n",
       "Year       int64\n",
       "dtype: object"
      ]
     },
     "execution_count": 11,
     "metadata": {},
     "output_type": "execute_result"
    }
   ],
   "source": [
    "movies.dtypes"
   ]
  },
  {
   "cell_type": "code",
   "execution_count": 12,
   "id": "9bc91ff6",
   "metadata": {},
   "outputs": [
    {
     "data": {
      "text/plain": [
       "Rank                              500\n",
       "Title     Maze Runner: The Death Cure\n",
       "Studio                            Fox\n",
       "Gross                        $288.30 \n",
       "Year                             2018\n",
       "Name: 499, dtype: object"
      ]
     },
     "execution_count": 12,
     "metadata": {},
     "output_type": "execute_result"
    }
   ],
   "source": [
    "movies.iloc[499]"
   ]
  },
  {
   "cell_type": "code",
   "execution_count": 13,
   "id": "cdbc9495",
   "metadata": {},
   "outputs": [
    {
     "data": {
      "text/html": [
       "<div>\n",
       "<style scoped>\n",
       "    .dataframe tbody tr th:only-of-type {\n",
       "        vertical-align: middle;\n",
       "    }\n",
       "\n",
       "    .dataframe tbody tr th {\n",
       "        vertical-align: top;\n",
       "    }\n",
       "\n",
       "    .dataframe thead th {\n",
       "        text-align: right;\n",
       "    }\n",
       "</style>\n",
       "<table border=\"1\" class=\"dataframe\">\n",
       "  <thead>\n",
       "    <tr style=\"text-align: right;\">\n",
       "      <th></th>\n",
       "      <th>Rank</th>\n",
       "      <th>Title</th>\n",
       "      <th>Studio</th>\n",
       "      <th>Gross</th>\n",
       "      <th>Year</th>\n",
       "    </tr>\n",
       "  </thead>\n",
       "  <tbody>\n",
       "    <tr>\n",
       "      <th>118</th>\n",
       "      <td>119</td>\n",
       "      <td>Forrest Gump</td>\n",
       "      <td>Paramount</td>\n",
       "      <td>$677.90</td>\n",
       "      <td>1994</td>\n",
       "    </tr>\n",
       "  </tbody>\n",
       "</table>\n",
       "</div>"
      ],
      "text/plain": [
       "     Rank         Title     Studio     Gross  Year\n",
       "118   119  Forrest Gump  Paramount  $677.90   1994"
      ]
     },
     "execution_count": 13,
     "metadata": {},
     "output_type": "execute_result"
    }
   ],
   "source": [
    "movies[movies['Title'].isin(['Forrest Gump'])]"
   ]
  },
  {
   "cell_type": "code",
   "execution_count": 208,
   "id": "503bb064",
   "metadata": {},
   "outputs": [
    {
     "name": "stdout",
     "output_type": "stream",
     "text": [
      "     Rank                               Title           Studio     Gross  Year\n",
      "287   288                  Gone with the Wind              MGM  $402.40   1939\n",
      "539   540                               Bambi              RKO  $267.40   1942\n",
      "707   708                      101 Dalmatians      Buena Vista  $215.90   1961\n",
      "754   755                     The Jungle Book      Buena Vista  $205.80   1967\n",
      "603   604                       The Godfather        Paramount  $245.10   1972\n",
      "251   252                        The Exorcist  Warner Brothers  $441.30   1973\n",
      "227   228                                Jaws        Universal  $470.70   1975\n",
      "451   452  Close Encounters of the Third Kind         Columbia  $306.90   1977\n",
      "629   630                Saturday Night Fever        Paramount  $237.10   1977\n",
      "90     91                           Star Wars              Fox  $775.40   1977\n"
     ]
    }
   ],
   "source": [
    "movies = movies.sort_values(by=['Year'])\n",
    "print(movies[:10])"
   ]
  },
  {
   "cell_type": "code",
   "execution_count": 209,
   "id": "2a942452",
   "metadata": {},
   "outputs": [
    {
     "name": "stdout",
     "output_type": "stream",
     "text": [
      "     Rank                    Title           Studio     Gross  Year\n",
      "277   278                   Batman  Warner Brothers  $411.50   1989\n",
      "659   660          Lethal Weapon 2  Warner Brothers  $227.90   1989\n",
      "467   468                 Superman  Warner Brothers  $300.50   1978\n",
      "251   252             The Exorcist  Warner Brothers  $441.30   1973\n",
      "641   642       The Imitation Game        Weinstein  $233.60   2014\n",
      "265   266         Django Unchained        Weinstein  $425.40   2012\n",
      "264   265         The Intouchables        Weinstein  $426.60   2012\n",
      "630   631  Silver Linings Playbook        Weinstein  $236.40   2012\n",
      "275   276        The King's Speech        Weinstein  $414.20   2010\n",
      "423   424     Inglourious Basterds        Weinstein  $321.50   2009\n"
     ]
    }
   ],
   "source": [
    "movies = movies.sort_values(by=['Studio', 'Year'], ascending=[True, False])\n",
    "print(movies[-10:])"
   ]
  },
  {
   "cell_type": "code",
   "execution_count": 15,
   "id": "3afacc56",
   "metadata": {},
   "outputs": [
    {
     "data": {
      "text/html": [
       "<div>\n",
       "<style scoped>\n",
       "    .dataframe tbody tr th:only-of-type {\n",
       "        vertical-align: middle;\n",
       "    }\n",
       "\n",
       "    .dataframe tbody tr th {\n",
       "        vertical-align: top;\n",
       "    }\n",
       "\n",
       "    .dataframe thead th {\n",
       "        text-align: right;\n",
       "    }\n",
       "</style>\n",
       "<table border=\"1\" class=\"dataframe\">\n",
       "  <thead>\n",
       "    <tr style=\"text-align: right;\">\n",
       "      <th></th>\n",
       "      <th>Rank</th>\n",
       "      <th>Title</th>\n",
       "      <th>Studio</th>\n",
       "      <th>Gross</th>\n",
       "      <th>Year</th>\n",
       "    </tr>\n",
       "  </thead>\n",
       "  <tbody>\n",
       "    <tr>\n",
       "      <th>5</th>\n",
       "      <td>6</td>\n",
       "      <td>Jurassic World</td>\n",
       "      <td>Universal</td>\n",
       "      <td>$1,671.70</td>\n",
       "      <td>2015</td>\n",
       "    </tr>\n",
       "    <tr>\n",
       "      <th>18</th>\n",
       "      <td>19</td>\n",
       "      <td>Minions</td>\n",
       "      <td>Universal</td>\n",
       "      <td>$1,159.40</td>\n",
       "      <td>2015</td>\n",
       "    </tr>\n",
       "    <tr>\n",
       "      <th>775</th>\n",
       "      <td>776</td>\n",
       "      <td>Straight Outta Compton</td>\n",
       "      <td>Universal</td>\n",
       "      <td>$201.60</td>\n",
       "      <td>2015</td>\n",
       "    </tr>\n",
       "    <tr>\n",
       "      <th>701</th>\n",
       "      <td>702</td>\n",
       "      <td>Ted 2</td>\n",
       "      <td>Universal</td>\n",
       "      <td>$216.70</td>\n",
       "      <td>2015</td>\n",
       "    </tr>\n",
       "    <tr>\n",
       "      <th>765</th>\n",
       "      <td>766</td>\n",
       "      <td>Everest</td>\n",
       "      <td>Universal</td>\n",
       "      <td>$203.40</td>\n",
       "      <td>2015</td>\n",
       "    </tr>\n",
       "    <tr>\n",
       "      <th>503</th>\n",
       "      <td>504</td>\n",
       "      <td>Pitch Perfect 2</td>\n",
       "      <td>Universal</td>\n",
       "      <td>$287.50</td>\n",
       "      <td>2015</td>\n",
       "    </tr>\n",
       "    <tr>\n",
       "      <th>164</th>\n",
       "      <td>165</td>\n",
       "      <td>Fifty Shades of Grey</td>\n",
       "      <td>Universal</td>\n",
       "      <td>$571.00</td>\n",
       "      <td>2015</td>\n",
       "    </tr>\n",
       "    <tr>\n",
       "      <th>7</th>\n",
       "      <td>8</td>\n",
       "      <td>Furious 7</td>\n",
       "      <td>Universal</td>\n",
       "      <td>$1,516.00</td>\n",
       "      <td>2015</td>\n",
       "    </tr>\n",
       "  </tbody>\n",
       "</table>\n",
       "</div>"
      ],
      "text/plain": [
       "     Rank                   Title     Studio       Gross  Year\n",
       "5       6          Jurassic World  Universal  $1,671.70   2015\n",
       "18     19                 Minions  Universal  $1,159.40   2015\n",
       "775   776  Straight Outta Compton  Universal    $201.60   2015\n",
       "701   702                   Ted 2  Universal    $216.70   2015\n",
       "765   766                 Everest  Universal    $203.40   2015\n",
       "503   504         Pitch Perfect 2  Universal    $287.50   2015\n",
       "164   165    Fifty Shades of Grey  Universal    $571.00   2015\n",
       "7       8               Furious 7  Universal  $1,516.00   2015"
      ]
     },
     "execution_count": 15,
     "metadata": {},
     "output_type": "execute_result"
    }
   ],
   "source": [
    "movies[(movies['Year']==2015) & (movies['Studio']=='Universal')]"
   ]
  },
  {
   "cell_type": "code",
   "execution_count": 16,
   "id": "c7dd300a",
   "metadata": {},
   "outputs": [
    {
     "data": {
      "text/html": [
       "<div>\n",
       "<style scoped>\n",
       "    .dataframe tbody tr th:only-of-type {\n",
       "        vertical-align: middle;\n",
       "    }\n",
       "\n",
       "    .dataframe tbody tr th {\n",
       "        vertical-align: top;\n",
       "    }\n",
       "\n",
       "    .dataframe thead th {\n",
       "        text-align: right;\n",
       "    }\n",
       "</style>\n",
       "<table border=\"1\" class=\"dataframe\">\n",
       "  <thead>\n",
       "    <tr style=\"text-align: right;\">\n",
       "      <th></th>\n",
       "      <th>Rank</th>\n",
       "      <th>Title</th>\n",
       "      <th>Studio</th>\n",
       "      <th>Gross</th>\n",
       "      <th>Year</th>\n",
       "    </tr>\n",
       "  </thead>\n",
       "  <tbody>\n",
       "    <tr>\n",
       "      <th>227</th>\n",
       "      <td>228</td>\n",
       "      <td>Jaws</td>\n",
       "      <td>Universal</td>\n",
       "      <td>$470.70</td>\n",
       "      <td>1975</td>\n",
       "    </tr>\n",
       "    <tr>\n",
       "      <th>83</th>\n",
       "      <td>84</td>\n",
       "      <td>E.T.: The Extra-Terrestrial</td>\n",
       "      <td>Universal</td>\n",
       "      <td>$792.90</td>\n",
       "      <td>1982</td>\n",
       "    </tr>\n",
       "    <tr>\n",
       "      <th>310</th>\n",
       "      <td>311</td>\n",
       "      <td>Back to the Future</td>\n",
       "      <td>Universal</td>\n",
       "      <td>$381.10</td>\n",
       "      <td>1985</td>\n",
       "    </tr>\n",
       "    <tr>\n",
       "      <th>661</th>\n",
       "      <td>662</td>\n",
       "      <td>Out of Africa</td>\n",
       "      <td>Universal</td>\n",
       "      <td>$227.50</td>\n",
       "      <td>1985</td>\n",
       "    </tr>\n",
       "    <tr>\n",
       "      <th>703</th>\n",
       "      <td>704</td>\n",
       "      <td>Twins</td>\n",
       "      <td>Universal</td>\n",
       "      <td>$216.60</td>\n",
       "      <td>1988</td>\n",
       "    </tr>\n",
       "    <tr>\n",
       "      <th>...</th>\n",
       "      <td>...</td>\n",
       "      <td>...</td>\n",
       "      <td>...</td>\n",
       "      <td>...</td>\n",
       "      <td>...</td>\n",
       "    </tr>\n",
       "    <tr>\n",
       "      <th>491</th>\n",
       "      <td>492</td>\n",
       "      <td>Pacific Rim Uprising</td>\n",
       "      <td>Universal</td>\n",
       "      <td>$290.90</td>\n",
       "      <td>2018</td>\n",
       "    </tr>\n",
       "    <tr>\n",
       "      <th>669</th>\n",
       "      <td>670</td>\n",
       "      <td>The Secret Life of Pets 2</td>\n",
       "      <td>Universal</td>\n",
       "      <td>$225.90</td>\n",
       "      <td>2019</td>\n",
       "    </tr>\n",
       "    <tr>\n",
       "      <th>571</th>\n",
       "      <td>572</td>\n",
       "      <td>Us</td>\n",
       "      <td>Universal</td>\n",
       "      <td>$254.70</td>\n",
       "      <td>2019</td>\n",
       "    </tr>\n",
       "    <tr>\n",
       "      <th>590</th>\n",
       "      <td>591</td>\n",
       "      <td>Glass</td>\n",
       "      <td>Universal</td>\n",
       "      <td>$247.00</td>\n",
       "      <td>2019</td>\n",
       "    </tr>\n",
       "    <tr>\n",
       "      <th>198</th>\n",
       "      <td>199</td>\n",
       "      <td>How to Train Your Dragon: The Hidden World</td>\n",
       "      <td>Universal</td>\n",
       "      <td>$519.80</td>\n",
       "      <td>2019</td>\n",
       "    </tr>\n",
       "  </tbody>\n",
       "</table>\n",
       "<p>140 rows × 5 columns</p>\n",
       "</div>"
      ],
      "text/plain": [
       "     Rank                                       Title     Studio     Gross  \\\n",
       "227   228                                        Jaws  Universal  $470.70    \n",
       "83     84                 E.T.: The Extra-Terrestrial  Universal  $792.90    \n",
       "310   311                          Back to the Future  Universal  $381.10    \n",
       "661   662                               Out of Africa  Universal  $227.50    \n",
       "703   704                                       Twins  Universal  $216.60    \n",
       "..    ...                                         ...        ...       ...   \n",
       "491   492                        Pacific Rim Uprising  Universal  $290.90    \n",
       "669   670                   The Secret Life of Pets 2  Universal  $225.90    \n",
       "571   572                                          Us  Universal  $254.70    \n",
       "590   591                                       Glass  Universal  $247.00    \n",
       "198   199  How to Train Your Dragon: The Hidden World  Universal  $519.80    \n",
       "\n",
       "     Year  \n",
       "227  1975  \n",
       "83   1982  \n",
       "310  1985  \n",
       "661  1985  \n",
       "703  1988  \n",
       "..    ...  \n",
       "491  2018  \n",
       "669  2019  \n",
       "571  2019  \n",
       "590  2019  \n",
       "198  2019  \n",
       "\n",
       "[140 rows x 5 columns]"
      ]
     },
     "execution_count": 16,
     "metadata": {},
     "output_type": "execute_result"
    }
   ],
   "source": [
    "movies[(movies['Year']==2015) | (movies['Studio']=='Universal')]"
   ]
  },
  {
   "cell_type": "code",
   "execution_count": 17,
   "id": "b339675f",
   "metadata": {},
   "outputs": [
    {
     "data": {
      "text/html": [
       "<div>\n",
       "<style scoped>\n",
       "    .dataframe tbody tr th:only-of-type {\n",
       "        vertical-align: middle;\n",
       "    }\n",
       "\n",
       "    .dataframe tbody tr th {\n",
       "        vertical-align: top;\n",
       "    }\n",
       "\n",
       "    .dataframe thead th {\n",
       "        text-align: right;\n",
       "    }\n",
       "</style>\n",
       "<table border=\"1\" class=\"dataframe\">\n",
       "  <thead>\n",
       "    <tr style=\"text-align: right;\">\n",
       "      <th></th>\n",
       "      <th>Rank</th>\n",
       "      <th>Title</th>\n",
       "      <th>Studio</th>\n",
       "      <th>Gross</th>\n",
       "      <th>Year</th>\n",
       "    </tr>\n",
       "  </thead>\n",
       "  <tbody>\n",
       "    <tr>\n",
       "      <th>287</th>\n",
       "      <td>288</td>\n",
       "      <td>Gone with the Wind</td>\n",
       "      <td>MGM</td>\n",
       "      <td>$402.40</td>\n",
       "      <td>1939</td>\n",
       "    </tr>\n",
       "    <tr>\n",
       "      <th>539</th>\n",
       "      <td>540</td>\n",
       "      <td>Bambi</td>\n",
       "      <td>RKO</td>\n",
       "      <td>$267.40</td>\n",
       "      <td>1942</td>\n",
       "    </tr>\n",
       "    <tr>\n",
       "      <th>707</th>\n",
       "      <td>708</td>\n",
       "      <td>101 Dalmatians</td>\n",
       "      <td>Buena Vista</td>\n",
       "      <td>$215.90</td>\n",
       "      <td>1961</td>\n",
       "    </tr>\n",
       "    <tr>\n",
       "      <th>754</th>\n",
       "      <td>755</td>\n",
       "      <td>The Jungle Book</td>\n",
       "      <td>Buena Vista</td>\n",
       "      <td>$205.80</td>\n",
       "      <td>1967</td>\n",
       "    </tr>\n",
       "    <tr>\n",
       "      <th>603</th>\n",
       "      <td>604</td>\n",
       "      <td>The Godfather</td>\n",
       "      <td>Paramount</td>\n",
       "      <td>$245.10</td>\n",
       "      <td>1972</td>\n",
       "    </tr>\n",
       "    <tr>\n",
       "      <th>251</th>\n",
       "      <td>252</td>\n",
       "      <td>The Exorcist</td>\n",
       "      <td>Warner Brothers</td>\n",
       "      <td>$441.30</td>\n",
       "      <td>1973</td>\n",
       "    </tr>\n",
       "  </tbody>\n",
       "</table>\n",
       "</div>"
      ],
      "text/plain": [
       "     Rank               Title           Studio     Gross  Year\n",
       "287   288  Gone with the Wind              MGM  $402.40   1939\n",
       "539   540               Bambi              RKO  $267.40   1942\n",
       "707   708      101 Dalmatians      Buena Vista  $215.90   1961\n",
       "754   755     The Jungle Book      Buena Vista  $205.80   1967\n",
       "603   604       The Godfather        Paramount  $245.10   1972\n",
       "251   252        The Exorcist  Warner Brothers  $441.30   1973"
      ]
     },
     "execution_count": 17,
     "metadata": {},
     "output_type": "execute_result"
    }
   ],
   "source": [
    "movies[(movies['Year']<1975)]"
   ]
  },
  {
   "cell_type": "code",
   "execution_count": 18,
   "id": "1fe9f272",
   "metadata": {},
   "outputs": [
    {
     "data": {
      "text/html": [
       "<div>\n",
       "<style scoped>\n",
       "    .dataframe tbody tr th:only-of-type {\n",
       "        vertical-align: middle;\n",
       "    }\n",
       "\n",
       "    .dataframe tbody tr th {\n",
       "        vertical-align: top;\n",
       "    }\n",
       "\n",
       "    .dataframe thead th {\n",
       "        text-align: right;\n",
       "    }\n",
       "</style>\n",
       "<table border=\"1\" class=\"dataframe\">\n",
       "  <thead>\n",
       "    <tr style=\"text-align: right;\">\n",
       "      <th></th>\n",
       "      <th>Rank</th>\n",
       "      <th>Title</th>\n",
       "      <th>Studio</th>\n",
       "      <th>Gross</th>\n",
       "      <th>Year</th>\n",
       "    </tr>\n",
       "  </thead>\n",
       "  <tbody>\n",
       "    <tr>\n",
       "      <th>299</th>\n",
       "      <td>300</td>\n",
       "      <td>Raiders of the Lost Ark</td>\n",
       "      <td>Paramount</td>\n",
       "      <td>$389.90</td>\n",
       "      <td>1981</td>\n",
       "    </tr>\n",
       "    <tr>\n",
       "      <th>83</th>\n",
       "      <td>84</td>\n",
       "      <td>E.T.: The Extra-Terrestrial</td>\n",
       "      <td>Universal</td>\n",
       "      <td>$792.90</td>\n",
       "      <td>1982</td>\n",
       "    </tr>\n",
       "    <tr>\n",
       "      <th>221</th>\n",
       "      <td>222</td>\n",
       "      <td>Return of the Jedi</td>\n",
       "      <td>Fox</td>\n",
       "      <td>$475.10</td>\n",
       "      <td>1983</td>\n",
       "    </tr>\n",
       "    <tr>\n",
       "      <th>402</th>\n",
       "      <td>403</td>\n",
       "      <td>Indiana Jones and the Temple of Doom</td>\n",
       "      <td>Paramount</td>\n",
       "      <td>$333.10</td>\n",
       "      <td>1984</td>\n",
       "    </tr>\n",
       "    <tr>\n",
       "      <th>484</th>\n",
       "      <td>485</td>\n",
       "      <td>Ghostbusters</td>\n",
       "      <td>Columbia</td>\n",
       "      <td>$295.20</td>\n",
       "      <td>1984</td>\n",
       "    </tr>\n",
       "    <tr>\n",
       "      <th>431</th>\n",
       "      <td>432</td>\n",
       "      <td>Beverly Hills Cop</td>\n",
       "      <td>Paramount</td>\n",
       "      <td>$316.40</td>\n",
       "      <td>1984</td>\n",
       "    </tr>\n",
       "    <tr>\n",
       "      <th>310</th>\n",
       "      <td>311</td>\n",
       "      <td>Back to the Future</td>\n",
       "      <td>Universal</td>\n",
       "      <td>$381.10</td>\n",
       "      <td>1985</td>\n",
       "    </tr>\n",
       "    <tr>\n",
       "      <th>466</th>\n",
       "      <td>467</td>\n",
       "      <td>Rocky IV</td>\n",
       "      <td>MGM</td>\n",
       "      <td>$300.50</td>\n",
       "      <td>1985</td>\n",
       "    </tr>\n",
       "    <tr>\n",
       "      <th>661</th>\n",
       "      <td>662</td>\n",
       "      <td>Out of Africa</td>\n",
       "      <td>Universal</td>\n",
       "      <td>$227.50</td>\n",
       "      <td>1985</td>\n",
       "    </tr>\n",
       "    <tr>\n",
       "      <th>468</th>\n",
       "      <td>469</td>\n",
       "      <td>Rambo: First Blood Part II</td>\n",
       "      <td>TriStar</td>\n",
       "      <td>$300.40</td>\n",
       "      <td>1985</td>\n",
       "    </tr>\n",
       "    <tr>\n",
       "      <th>356</th>\n",
       "      <td>357</td>\n",
       "      <td>Top Gun</td>\n",
       "      <td>Paramount</td>\n",
       "      <td>$356.80</td>\n",
       "      <td>1986</td>\n",
       "    </tr>\n",
       "    <tr>\n",
       "      <th>412</th>\n",
       "      <td>413</td>\n",
       "      <td>Crocodile Dundee</td>\n",
       "      <td>Paramount</td>\n",
       "      <td>$328.20</td>\n",
       "      <td>1986</td>\n",
       "    </tr>\n",
       "    <tr>\n",
       "      <th>427</th>\n",
       "      <td>428</td>\n",
       "      <td>Fatal Attraction</td>\n",
       "      <td>Paramount</td>\n",
       "      <td>$320.10</td>\n",
       "      <td>1987</td>\n",
       "    </tr>\n",
       "    <tr>\n",
       "      <th>472</th>\n",
       "      <td>473</td>\n",
       "      <td>Beverly Hills Cop II</td>\n",
       "      <td>Paramount</td>\n",
       "      <td>$300.00</td>\n",
       "      <td>1987</td>\n",
       "    </tr>\n",
       "    <tr>\n",
       "      <th>715</th>\n",
       "      <td>716</td>\n",
       "      <td>Dirty Dancing</td>\n",
       "      <td>Vestron</td>\n",
       "      <td>$214.60</td>\n",
       "      <td>1987</td>\n",
       "    </tr>\n",
       "    <tr>\n",
       "      <th>495</th>\n",
       "      <td>496</td>\n",
       "      <td>Coming to America</td>\n",
       "      <td>Paramount</td>\n",
       "      <td>$288.80</td>\n",
       "      <td>1988</td>\n",
       "    </tr>\n",
       "    <tr>\n",
       "      <th>622</th>\n",
       "      <td>623</td>\n",
       "      <td>Crocodile Dundee II</td>\n",
       "      <td>Paramount</td>\n",
       "      <td>$239.60</td>\n",
       "      <td>1988</td>\n",
       "    </tr>\n",
       "    <tr>\n",
       "      <th>703</th>\n",
       "      <td>704</td>\n",
       "      <td>Twins</td>\n",
       "      <td>Universal</td>\n",
       "      <td>$216.60</td>\n",
       "      <td>1988</td>\n",
       "    </tr>\n",
       "    <tr>\n",
       "      <th>409</th>\n",
       "      <td>410</td>\n",
       "      <td>Who Framed Roger Rabbit</td>\n",
       "      <td>Buena Vista</td>\n",
       "      <td>$329.80</td>\n",
       "      <td>1988</td>\n",
       "    </tr>\n",
       "    <tr>\n",
       "      <th>360</th>\n",
       "      <td>361</td>\n",
       "      <td>Rain Man</td>\n",
       "      <td>MGM</td>\n",
       "      <td>$354.80</td>\n",
       "      <td>1988</td>\n",
       "    </tr>\n",
       "    <tr>\n",
       "      <th>678</th>\n",
       "      <td>679</td>\n",
       "      <td>Honey, I Shrunk the Kids</td>\n",
       "      <td>Buena Vista</td>\n",
       "      <td>$222.70</td>\n",
       "      <td>1989</td>\n",
       "    </tr>\n",
       "    <tr>\n",
       "      <th>710</th>\n",
       "      <td>711</td>\n",
       "      <td>Ghostbusters II</td>\n",
       "      <td>Columbia</td>\n",
       "      <td>$215.40</td>\n",
       "      <td>1989</td>\n",
       "    </tr>\n",
       "    <tr>\n",
       "      <th>405</th>\n",
       "      <td>406</td>\n",
       "      <td>Back to the Future Part II</td>\n",
       "      <td>Universal</td>\n",
       "      <td>$332.00</td>\n",
       "      <td>1989</td>\n",
       "    </tr>\n",
       "    <tr>\n",
       "      <th>635</th>\n",
       "      <td>636</td>\n",
       "      <td>Dead Poets Society</td>\n",
       "      <td>Buena Vista</td>\n",
       "      <td>$235.90</td>\n",
       "      <td>1989</td>\n",
       "    </tr>\n",
       "    <tr>\n",
       "      <th>479</th>\n",
       "      <td>480</td>\n",
       "      <td>Look Who's Talking</td>\n",
       "      <td>TriStar</td>\n",
       "      <td>$297.00</td>\n",
       "      <td>1989</td>\n",
       "    </tr>\n",
       "    <tr>\n",
       "      <th>224</th>\n",
       "      <td>225</td>\n",
       "      <td>Indiana Jones and the Last Crusade</td>\n",
       "      <td>Paramount</td>\n",
       "      <td>$474.20</td>\n",
       "      <td>1989</td>\n",
       "    </tr>\n",
       "    <tr>\n",
       "      <th>737</th>\n",
       "      <td>738</td>\n",
       "      <td>The Little Mermaid</td>\n",
       "      <td>Buena Vista</td>\n",
       "      <td>$211.30</td>\n",
       "      <td>1989</td>\n",
       "    </tr>\n",
       "    <tr>\n",
       "      <th>277</th>\n",
       "      <td>278</td>\n",
       "      <td>Batman</td>\n",
       "      <td>Warner Brothers</td>\n",
       "      <td>$411.50</td>\n",
       "      <td>1989</td>\n",
       "    </tr>\n",
       "    <tr>\n",
       "      <th>659</th>\n",
       "      <td>660</td>\n",
       "      <td>Lethal Weapon 2</td>\n",
       "      <td>Warner Brothers</td>\n",
       "      <td>$227.90</td>\n",
       "      <td>1989</td>\n",
       "    </tr>\n",
       "  </tbody>\n",
       "</table>\n",
       "</div>"
      ],
      "text/plain": [
       "     Rank                                 Title           Studio     Gross  \\\n",
       "299   300               Raiders of the Lost Ark        Paramount  $389.90    \n",
       "83     84           E.T.: The Extra-Terrestrial        Universal  $792.90    \n",
       "221   222                    Return of the Jedi              Fox  $475.10    \n",
       "402   403  Indiana Jones and the Temple of Doom        Paramount  $333.10    \n",
       "484   485                          Ghostbusters         Columbia  $295.20    \n",
       "431   432                     Beverly Hills Cop        Paramount  $316.40    \n",
       "310   311                    Back to the Future        Universal  $381.10    \n",
       "466   467                              Rocky IV              MGM  $300.50    \n",
       "661   662                         Out of Africa        Universal  $227.50    \n",
       "468   469            Rambo: First Blood Part II          TriStar  $300.40    \n",
       "356   357                               Top Gun        Paramount  $356.80    \n",
       "412   413                      Crocodile Dundee        Paramount  $328.20    \n",
       "427   428                      Fatal Attraction        Paramount  $320.10    \n",
       "472   473                  Beverly Hills Cop II        Paramount  $300.00    \n",
       "715   716                         Dirty Dancing          Vestron  $214.60    \n",
       "495   496                     Coming to America        Paramount  $288.80    \n",
       "622   623                   Crocodile Dundee II        Paramount  $239.60    \n",
       "703   704                                 Twins        Universal  $216.60    \n",
       "409   410               Who Framed Roger Rabbit      Buena Vista  $329.80    \n",
       "360   361                              Rain Man              MGM  $354.80    \n",
       "678   679              Honey, I Shrunk the Kids      Buena Vista  $222.70    \n",
       "710   711                       Ghostbusters II         Columbia  $215.40    \n",
       "405   406            Back to the Future Part II        Universal  $332.00    \n",
       "635   636                    Dead Poets Society      Buena Vista  $235.90    \n",
       "479   480                    Look Who's Talking          TriStar  $297.00    \n",
       "224   225    Indiana Jones and the Last Crusade        Paramount  $474.20    \n",
       "737   738                    The Little Mermaid      Buena Vista  $211.30    \n",
       "277   278                                Batman  Warner Brothers  $411.50    \n",
       "659   660                       Lethal Weapon 2  Warner Brothers  $227.90    \n",
       "\n",
       "     Year  \n",
       "299  1981  \n",
       "83   1982  \n",
       "221  1983  \n",
       "402  1984  \n",
       "484  1984  \n",
       "431  1984  \n",
       "310  1985  \n",
       "466  1985  \n",
       "661  1985  \n",
       "468  1985  \n",
       "356  1986  \n",
       "412  1986  \n",
       "427  1987  \n",
       "472  1987  \n",
       "715  1987  \n",
       "495  1988  \n",
       "622  1988  \n",
       "703  1988  \n",
       "409  1988  \n",
       "360  1988  \n",
       "678  1989  \n",
       "710  1989  \n",
       "405  1989  \n",
       "635  1989  \n",
       "479  1989  \n",
       "224  1989  \n",
       "737  1989  \n",
       "277  1989  \n",
       "659  1989  "
      ]
     },
     "execution_count": 18,
     "metadata": {},
     "output_type": "execute_result"
    }
   ],
   "source": [
    "movies[(movies['Year']>1980) & (movies['Year']<1990)]"
   ]
  },
  {
   "cell_type": "code",
   "execution_count": 19,
   "id": "6ee046e6",
   "metadata": {},
   "outputs": [
    {
     "data": {
      "text/html": [
       "<div>\n",
       "<style scoped>\n",
       "    .dataframe tbody tr th:only-of-type {\n",
       "        vertical-align: middle;\n",
       "    }\n",
       "\n",
       "    .dataframe tbody tr th {\n",
       "        vertical-align: top;\n",
       "    }\n",
       "\n",
       "    .dataframe thead th {\n",
       "        text-align: right;\n",
       "    }\n",
       "</style>\n",
       "<table border=\"1\" class=\"dataframe\">\n",
       "  <thead>\n",
       "    <tr style=\"text-align: right;\">\n",
       "      <th></th>\n",
       "      <th>Rank</th>\n",
       "      <th>Title</th>\n",
       "      <th>Studio</th>\n",
       "      <th>Gross</th>\n",
       "      <th>Year</th>\n",
       "    </tr>\n",
       "  </thead>\n",
       "  <tbody>\n",
       "    <tr>\n",
       "      <th>38</th>\n",
       "      <td>39</td>\n",
       "      <td>The Dark Knight</td>\n",
       "      <td>Warner Brothers</td>\n",
       "      <td>$1,004.90</td>\n",
       "      <td>2008</td>\n",
       "    </tr>\n",
       "    <tr>\n",
       "      <th>22</th>\n",
       "      <td>23</td>\n",
       "      <td>Transformers: Dark of the Moon</td>\n",
       "      <td>Paramount</td>\n",
       "      <td>$1,123.80</td>\n",
       "      <td>2011</td>\n",
       "    </tr>\n",
       "    <tr>\n",
       "      <th>599</th>\n",
       "      <td>600</td>\n",
       "      <td>Dark Shadows</td>\n",
       "      <td>Warner Brothers</td>\n",
       "      <td>$245.50</td>\n",
       "      <td>2012</td>\n",
       "    </tr>\n",
       "    <tr>\n",
       "      <th>26</th>\n",
       "      <td>27</td>\n",
       "      <td>The Dark Knight Rises</td>\n",
       "      <td>Warner Brothers</td>\n",
       "      <td>$1,084.90</td>\n",
       "      <td>2012</td>\n",
       "    </tr>\n",
       "    <tr>\n",
       "      <th>131</th>\n",
       "      <td>132</td>\n",
       "      <td>Thor: The Dark World</td>\n",
       "      <td>Buena Vista</td>\n",
       "      <td>$644.60</td>\n",
       "      <td>2013</td>\n",
       "    </tr>\n",
       "    <tr>\n",
       "      <th>231</th>\n",
       "      <td>232</td>\n",
       "      <td>Star Trek Into Darkness</td>\n",
       "      <td>Paramount</td>\n",
       "      <td>$467.40</td>\n",
       "      <td>2013</td>\n",
       "    </tr>\n",
       "    <tr>\n",
       "      <th>308</th>\n",
       "      <td>309</td>\n",
       "      <td>Fifty Shades Darker</td>\n",
       "      <td>Universal</td>\n",
       "      <td>$381.50</td>\n",
       "      <td>2017</td>\n",
       "    </tr>\n",
       "    <tr>\n",
       "      <th>602</th>\n",
       "      <td>603</td>\n",
       "      <td>Dark Phoenix</td>\n",
       "      <td>Fox</td>\n",
       "      <td>$245.10</td>\n",
       "      <td>2019</td>\n",
       "    </tr>\n",
       "  </tbody>\n",
       "</table>\n",
       "</div>"
      ],
      "text/plain": [
       "     Rank                           Title           Studio       Gross  Year\n",
       "38     39                 The Dark Knight  Warner Brothers  $1,004.90   2008\n",
       "22     23  Transformers: Dark of the Moon        Paramount  $1,123.80   2011\n",
       "599   600                    Dark Shadows  Warner Brothers    $245.50   2012\n",
       "26     27           The Dark Knight Rises  Warner Brothers  $1,084.90   2012\n",
       "131   132            Thor: The Dark World      Buena Vista    $644.60   2013\n",
       "231   232         Star Trek Into Darkness        Paramount    $467.40   2013\n",
       "308   309             Fifty Shades Darker        Universal    $381.50   2017\n",
       "602   603                    Dark Phoenix              Fox    $245.10   2019"
      ]
     },
     "execution_count": 19,
     "metadata": {},
     "output_type": "execute_result"
    }
   ],
   "source": [
    "movies[movies['Title'].str.contains('dark', case=False)]"
   ]
  },
  {
   "cell_type": "code",
   "execution_count": 20,
   "id": "e9a1382f",
   "metadata": {},
   "outputs": [
    {
     "data": {
      "text/plain": [
       "count          782\n",
       "unique         701\n",
       "top       $215.90 \n",
       "freq             3\n",
       "Name: Gross, dtype: object"
      ]
     },
     "execution_count": 20,
     "metadata": {},
     "output_type": "execute_result"
    }
   ],
   "source": [
    "movies['Gross'].describe(include='object')"
   ]
  },
  {
   "cell_type": "code",
   "execution_count": 64,
   "id": "81c77806",
   "metadata": {
    "scrolled": true
   },
   "outputs": [
    {
     "name": "stdout",
     "output_type": "stream",
     "text": [
      "Studio\n",
      "Artisan                     24860\n",
      "Buena Vista               7358500\n",
      "CL                          22810\n",
      "China Film Corporation      69980\n",
      "Columbia                   127660\n",
      "Dimension                   48870\n",
      "Dreamworks                1226040\n",
      "FR                          38530\n",
      "FUN                         35800\n",
      "Focus                       20580\n",
      "Fox                       5042080\n",
      "GrtIndia                    25420\n",
      "HC                          87030\n",
      "IFC                         36870\n",
      "Lions                       22240\n",
      "Lionsgate                 1003320\n",
      "MGM                        351310\n",
      "Magn.                       20560\n",
      "Miramax                    248060\n",
      "New Line                   658480\n",
      "Newmarket                   61190\n",
      "Orion                       69690\n",
      "Paramount                 3248600\n",
      "Pathe                       24510\n",
      "Polygram                    49690\n",
      "RKO                         26740\n",
      "Rela.                       22690\n",
      "SonR                        51510\n",
      "Sony                      3282250\n",
      "TriStar                    318550\n",
      "USA                         20750\n",
      "UTV                         30290\n",
      "Universal                 4430230\n",
      "Vestron                     21460\n",
      "WGUSA                      134910\n",
      "Warner Brothers           5864380\n",
      "Weinstein                  205770\n",
      "Name: Gross, dtype: int64\n"
     ]
    }
   ],
   "source": [
    "movies[\"Gross\"] = movies[\"Gross\"].str.replace(pat=r'[^\\w]', repl=r'', regex=True)\n",
    "movies['Gross'] = pd.to_numeric(movies['Gross'])\n",
    "groups = movies.groupby('Studio').sum()\n",
    "print(groups['Gross'])"
   ]
  },
  {
   "cell_type": "code",
   "execution_count": 66,
   "id": "07c8a151",
   "metadata": {},
   "outputs": [
    {
     "name": "stdout",
     "output_type": "stream",
     "text": [
      "Studio\n",
      "Buena Vista        7358500\n",
      "Warner Brothers    5864380\n",
      "Fox                5042080\n",
      "Universal          4430230\n",
      "Sony               3282250\n",
      "Paramount          3248600\n",
      "Dreamworks         1226040\n",
      "Lionsgate          1003320\n",
      "New Line            658480\n",
      "MGM                 351310\n",
      "Name: Gross, dtype: int64\n"
     ]
    }
   ],
   "source": [
    "groups = groups.sort_values(by=['Gross'], ascending=False)\n",
    "print(groups['Gross'][:10])"
   ]
  },
  {
   "cell_type": "code",
   "execution_count": 67,
   "id": "9e582671",
   "metadata": {},
   "outputs": [
    {
     "data": {
      "text/plain": [
       "15.0"
      ]
     },
     "execution_count": 67,
     "metadata": {},
     "output_type": "execute_result"
    }
   ],
   "source": [
    "s = pd.Series([1, 2, 3, np.nan, 4, 5])\n",
    "s.sum()"
   ]
  },
  {
   "cell_type": "code",
   "execution_count": 69,
   "id": "7a5ffe7c",
   "metadata": {},
   "outputs": [
    {
     "data": {
      "text/plain": [
       "nan"
      ]
     },
     "execution_count": 69,
     "metadata": {},
     "output_type": "execute_result"
    }
   ],
   "source": [
    "s.sum(skipna = False)"
   ]
  },
  {
   "cell_type": "code",
   "execution_count": 68,
   "id": "3f27b88f",
   "metadata": {
    "scrolled": true
   },
   "outputs": [
    {
     "data": {
      "text/plain": [
       "0     1.0\n",
       "1     3.0\n",
       "2     6.0\n",
       "3     NaN\n",
       "4    10.0\n",
       "5    15.0\n",
       "dtype: float64"
      ]
     },
     "execution_count": 68,
     "metadata": {},
     "output_type": "execute_result"
    }
   ],
   "source": [
    "s.cumsum()"
   ]
  },
  {
   "cell_type": "code",
   "execution_count": 70,
   "id": "4b88753f",
   "metadata": {},
   "outputs": [
    {
     "data": {
      "text/plain": [
       "0    1.0\n",
       "1    3.0\n",
       "2    6.0\n",
       "3    NaN\n",
       "4    NaN\n",
       "5    NaN\n",
       "dtype: float64"
      ]
     },
     "execution_count": 70,
     "metadata": {},
     "output_type": "execute_result"
    }
   ],
   "source": [
    "s.cumsum(skipna = False)"
   ]
  },
  {
   "cell_type": "code",
   "execution_count": 73,
   "id": "56bbd6f1",
   "metadata": {},
   "outputs": [
    {
     "name": "stdout",
     "output_type": "stream",
     "text": [
      "평균 : 3.0\n",
      "분산 : 2.5\n",
      "최댓값 : 5.0\n",
      "최솟값 : 1.0\n"
     ]
    }
   ],
   "source": [
    "print('평균 :',s.mean())\n",
    "print('분산 :',s.var())\n",
    "print('최댓값 :',s.max())\n",
    "print('최솟값 :',s.min())"
   ]
  },
  {
   "cell_type": "code",
   "execution_count": null,
   "id": "329a867b",
   "metadata": {},
   "outputs": [],
   "source": [
    "google = pd.read_csv(\"C:/Users/Python/google_stocks.csv\", index_col = \"Date\", squeeze = True)\n",
    "google.index = pd.to_datetime(google.index, format='%Y-%m-%d')"
   ]
  },
  {
   "cell_type": "code",
   "execution_count": 202,
   "id": "40943a69",
   "metadata": {},
   "outputs": [
    {
     "name": "stdout",
     "output_type": "stream",
     "text": [
      "Date\n",
      "2004-08-19      49.98\n",
      "2004-08-20      53.95\n",
      "2004-08-23      54.50\n",
      "2004-08-24      52.24\n",
      "2004-08-25      52.80\n",
      "               ...   \n",
      "2019-10-21    1246.15\n",
      "2019-10-22    1242.80\n",
      "2019-10-23    1259.13\n",
      "2019-10-24    1260.99\n",
      "2019-10-25    1265.13\n",
      "Name: Close, Length: 3824, dtype: float64\n"
     ]
    }
   ],
   "source": [
    "google = pd.Series(google)\n",
    "print(google)"
   ]
  },
  {
   "cell_type": "code",
   "execution_count": 203,
   "id": "5acab410",
   "metadata": {},
   "outputs": [
    {
     "name": "stdout",
     "output_type": "stream",
     "text": [
      "Date\n",
      "2019-04-29    1287.58\n",
      "2019-04-26    1272.18\n",
      "2018-07-26    1268.33\n",
      "2019-10-25    1265.13\n",
      "2019-04-23    1264.55\n",
      "Name: Close, dtype: float64\n",
      "Date\n",
      "2004-09-03    49.82\n",
      "2004-09-01    49.94\n",
      "2004-08-19    49.98\n",
      "2004-09-02    50.57\n",
      "2004-09-07    50.60\n",
      "Name: Close, dtype: float64\n"
     ]
    }
   ],
   "source": [
    "google = google.sort_values(ascending=False)\n",
    "print(google[:5])\n",
    "google = google.sort_values(ascending=True)\n",
    "print(google[:5])"
   ]
  },
  {
   "cell_type": "code",
   "execution_count": 204,
   "id": "89763de0",
   "metadata": {},
   "outputs": [
    {
     "name": "stdout",
     "output_type": "stream",
     "text": [
      "194.27    3\n",
      "307.10    3\n",
      "237.04    3\n",
      "287.68    3\n",
      "290.41    3\n",
      "         ..\n",
      "288.10    1\n",
      "964.86    1\n",
      "144.96    1\n",
      "290.92    1\n",
      "306.65    1\n",
      "Name: Close, Length: 3696, dtype: int64\n"
     ]
    }
   ],
   "source": [
    "freq = google.value_counts() \n",
    "print(freq)"
   ]
  },
  {
   "cell_type": "code",
   "execution_count": 207,
   "id": "841f7b65",
   "metadata": {},
   "outputs": [
    {
     "data": {
      "text/plain": [
       "(-0.001, 200.0]      595\n",
       "(200.0, 400.0]      1568\n",
       "(400.0, 600.0]       575\n",
       "(600.0, 800.0]       380\n",
       "(800.0, 1000.0]      207\n",
       "(1000.0, 1200.0]     406\n",
       "(1200.0, 1400.0]      93\n",
       "Name: Close, dtype: int64"
      ]
     },
     "execution_count": 207,
     "metadata": {},
     "output_type": "execute_result"
    }
   ],
   "source": [
    "bins = [0, 200, 400, 600, 800, 1000, 1200, 1400]\n",
    "google.value_counts(bins = bins).sort_index()"
   ]
  },
  {
   "cell_type": "code",
   "execution_count": 182,
   "id": "fb6dd12b",
   "metadata": {},
   "outputs": [
    {
     "data": {
      "text/plain": [
       "(49.819, 203.272]     638\n",
       "(203.272, 261.963]    637\n",
       "(261.963, 314.68]     637\n",
       "(314.68, 548.793]     637\n",
       "(548.793, 845.607]    637\n",
       "(845.607, 1287.58]    638\n",
       "Name: Close, dtype: int64"
      ]
     },
     "execution_count": 182,
     "metadata": {},
     "output_type": "execute_result"
    }
   ],
   "source": [
    "grouped = pd.qcut(google, 6)\n",
    "pd.Series(grouped).value_counts(sort = False).sort_index()"
   ]
  },
  {
   "cell_type": "code",
   "execution_count": 211,
   "id": "6c7635bf",
   "metadata": {},
   "outputs": [
    {
     "name": "stdout",
     "output_type": "stream",
     "text": [
      "0       Thursday\n",
      "1      Wednesday\n",
      "2      Wednesday\n",
      "3      Wednesday\n",
      "4       Thursday\n",
      "         ...    \n",
      "227    Wednesday\n",
      "228       Friday\n",
      "229       Friday\n",
      "230       Friday\n",
      "231    Wednesday\n",
      "Name: Start Date, Length: 228, dtype: object\n"
     ]
    }
   ],
   "source": [
    "import datetime as dt\n",
    "def day_of_week(date):\n",
    "    return date.strftime(\"%A\")\n",
    "\n",
    "days_of_war = pd.read_csv('C:/Users/Python/revolutionary_war.csv', usecols = [\"Start Date\"],\n",
    "                         parse_dates = [\"Start Date\"], squeeze = True)\n",
    "days_of_war = days_of_war.dropna().apply(day_of_week)\n",
    "print(days_of_war)"
   ]
  },
  {
   "cell_type": "code",
   "execution_count": 200,
   "id": "99990eb6",
   "metadata": {},
   "outputs": [
    {
     "data": {
      "text/plain": [
       "Saturday     39\n",
       "Friday       39\n",
       "Wednesday    32\n",
       "Thursday     31\n",
       "Sunday       31\n",
       "Tuesday      29\n",
       "Monday       27\n",
       "Name: Start Date, dtype: int64"
      ]
     },
     "execution_count": 200,
     "metadata": {},
     "output_type": "execute_result"
    }
   ],
   "source": [
    "days_of_war.value_counts()"
   ]
  },
  {
   "cell_type": "code",
   "execution_count": null,
   "id": "99de4f91",
   "metadata": {},
   "outputs": [],
   "source": []
  }
 ],
 "metadata": {
  "kernelspec": {
   "display_name": "Python 3",
   "language": "python",
   "name": "python3"
  },
  "language_info": {
   "codemirror_mode": {
    "name": "ipython",
    "version": 3
   },
   "file_extension": ".py",
   "mimetype": "text/x-python",
   "name": "python",
   "nbconvert_exporter": "python",
   "pygments_lexer": "ipython3",
   "version": "3.8.8"
  }
 },
 "nbformat": 4,
 "nbformat_minor": 5
}
