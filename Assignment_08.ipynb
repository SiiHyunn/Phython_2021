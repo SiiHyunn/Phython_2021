{
 "cells": [
  {
   "cell_type": "code",
   "execution_count": 187,
   "id": "ed4dbfb3",
   "metadata": {},
   "outputs": [
    {
     "name": "stdout",
     "output_type": "stream",
     "text": [
      "이름 입력 : 홍길동\n",
      "[54861, 44600, 46041]\n"
     ]
    }
   ],
   "source": [
    "name = input('이름 입력 : ')\n",
    "name = list(name)\n",
    "\n",
    "n_name = []\n",
    "\n",
    "for i in name:\n",
    "    n_name.append(ord(i))\n",
    "    \n",
    "print(n_name)"
   ]
  },
  {
   "cell_type": "code",
   "execution_count": 37,
   "id": "c2c880c9",
   "metadata": {},
   "outputs": [
    {
     "name": "stdout",
     "output_type": "stream",
     "text": [
      "[('black', 'small'), ('black', 'medium'), ('black', 'large'), ('white', 'small'), ('white', 'medium'), ('white', 'large')]\n"
     ]
    }
   ],
   "source": [
    "colors=['black', 'white']\n",
    "sizes=['small', 'medium', 'large']\n",
    "\n",
    "print([(i, j) for i in colors for j in sizes])"
   ]
  },
  {
   "cell_type": "code",
   "execution_count": 73,
   "id": "f2653f56",
   "metadata": {},
   "outputs": [
    {
     "name": "stdout",
     "output_type": "stream",
     "text": [
      "[('Half', 4), ('of', 2), ('my', 2), ('heart', 5), ('is', 2), ('in', 2), ('Havana', 6)]\n"
     ]
    }
   ],
   "source": [
    "lyrics = 'Half of my heart is in Havana'\n",
    "lyrics_list = lyrics.split()\n",
    "new_lyrics = []\n",
    "\n",
    "for i in lyrics_list:\n",
    "    a = i, len(i)\n",
    "    new_lyrics.append(a)\n",
    "print(new_lyrics)"
   ]
  },
  {
   "cell_type": "code",
   "execution_count": 206,
   "id": "2ab4c0c5",
   "metadata": {},
   "outputs": [
    {
     "name": "stdout",
     "output_type": "stream",
     "text": [
      "['(Half, 4)', '(of, 2)', '(my, 2)', '(heart, 5)', '(is, 2)', '(in, 2)', '(Havana, 6)']\n"
     ]
    }
   ],
   "source": [
    "lyrics = 'Half of my heart is in Havana'\n",
    "lyrics_list = lyrics.split()\n",
    "new_lyrics = []\n",
    "new_lyrics = ['(' + x + ', ' + y + ')' for x in lyrics_list for y in str(len(x))]\n",
    "\n",
    "print(new_lyrics)"
   ]
  },
  {
   "cell_type": "code",
   "execution_count": 80,
   "id": "4a27dc0c",
   "metadata": {},
   "outputs": [
    {
     "name": "stdout",
     "output_type": "stream",
     "text": [
      "[29, 902, 45]\n"
     ]
    }
   ],
   "source": [
    "n_list = [-22.3, 29.44, 902.2, 45.7, -887.1, -56.3]\n",
    "new_list = []\n",
    "\n",
    "for i in range (len(n_list)):\n",
    "    if(n_list[i]>0):\n",
    "        new_list.append(int(n_list[i]))\n",
    "        \n",
    "print(new_list)"
   ]
  },
  {
   "cell_type": "code",
   "execution_count": 96,
   "id": "c52a5a21",
   "metadata": {},
   "outputs": [
    {
     "name": "stdout",
     "output_type": "stream",
     "text": [
      "[29, 902, 45]\n"
     ]
    }
   ],
   "source": [
    "n_list = [-22.3, 29.44, 902.2, 45.7, -887.1, -56.3]\n",
    "\n",
    "new_list = list(filter(lambda x: x>0, n_list))\n",
    "new_list = list(map(int, new_list))\n",
    "\n",
    "print(new_list)"
   ]
  },
  {
   "cell_type": "code",
   "execution_count": 98,
   "id": "90b6ea85",
   "metadata": {},
   "outputs": [
    {
     "name": "stdout",
     "output_type": "stream",
     "text": [
      "[29, 902, 45]\n"
     ]
    }
   ],
   "source": [
    "n_list = [-22.3, 29.44, 902.2, 45.7, -887.1, -56.3]\n",
    "\n",
    "new_list = [int(x) for x in n_list if x>0]\n",
    "print(new_list)"
   ]
  },
  {
   "cell_type": "code",
   "execution_count": 100,
   "id": "c7731330",
   "metadata": {},
   "outputs": [
    {
     "name": "stdout",
     "output_type": "stream",
     "text": [
      "[42, 84]\n"
     ]
    }
   ],
   "source": [
    "new_list = []\n",
    "\n",
    "for i in range(1,100):\n",
    "    if i%6 == 0 and i%7 == 0:\n",
    "        new_list.append(i)\n",
    "        \n",
    "print(new_list)"
   ]
  },
  {
   "cell_type": "code",
   "execution_count": 102,
   "id": "c4066d02",
   "metadata": {},
   "outputs": [
    {
     "name": "stdout",
     "output_type": "stream",
     "text": [
      "[42, 84]\n"
     ]
    }
   ],
   "source": [
    "new_list = list(filter(lambda x: x%6 == 0 and x%7 == 0, range(1,100)))\n",
    "\n",
    "print(new_list)"
   ]
  },
  {
   "cell_type": "code",
   "execution_count": 103,
   "id": "a1e35030",
   "metadata": {},
   "outputs": [
    {
     "name": "stdout",
     "output_type": "stream",
     "text": [
      "[42, 84]\n"
     ]
    }
   ],
   "source": [
    "new_list = [x for x in range(1,100) if x%6 == 0 and x%7 == 0]\n",
    "print(new_list)"
   ]
  },
  {
   "cell_type": "code",
   "execution_count": 125,
   "id": "23bdac10",
   "metadata": {},
   "outputs": [
    {
     "name": "stdout",
     "output_type": "stream",
     "text": [
      "['Apple = 사과', 'Strawberry = 딸기', 'Peach = 복숭아', 'Grape = 포도']\n"
     ]
    }
   ],
   "source": [
    "fruits = {'Apple':'사과', 'Strawberry':'딸기', 'Peach':'복숭아', 'Grape':'포도'}\n",
    "new_fruits = []\n",
    "\n",
    "for x,y in fruits.items():\n",
    "    new_fruits.append(x + ' = ' + y)\n",
    "    \n",
    "print(new_fruits)"
   ]
  },
  {
   "cell_type": "code",
   "execution_count": 231,
   "id": "9ebf8406",
   "metadata": {},
   "outputs": [
    {
     "name": "stdout",
     "output_type": "stream",
     "text": [
      "['Apple = 사과', 'Strawberry = 딸기', 'Peach = 복숭아', 'Grape = 포도']\n"
     ]
    }
   ],
   "source": [
    "fruits = {'Apple':'사과', 'Strawberry':'딸기', 'Peach':'복숭아', 'Grape':'포도'}\n",
    "value_fruits = list(fruits.values())\n",
    "new_fruits = list(map(lambda x, y: x + ' = ' + y, fruits, value_fruits))\n",
    "\n",
    "print(new_fruits)"
   ]
  },
  {
   "cell_type": "code",
   "execution_count": 214,
   "id": "b9e83ae4",
   "metadata": {},
   "outputs": [
    {
     "name": "stdout",
     "output_type": "stream",
     "text": [
      "['Apple = 사과', 'Strawberry = 딸기', 'Peach = 복숭아', 'Grape = 포도']\n"
     ]
    }
   ],
   "source": [
    "fruits = {'Apple':'사과', 'Strawberry':'딸기', 'Peach':'복숭아', 'Grape':'포도'}\n",
    "new_fruits = [x + ' = ' + y for x,y in fruits.items()]\n",
    "\n",
    "print(new_fruits)"
   ]
  },
  {
   "cell_type": "code",
   "execution_count": null,
   "id": "9c856146",
   "metadata": {},
   "outputs": [],
   "source": [
    "time_str = input('연월일을 .으로 구분하여 입력하시오(예: 1987.06.10.) : ')\n",
    "time_str = time_str.split('.')\n",
    "del time_str[3]\n",
    "time_str = list(map(int, time_str))\n",
    "\n",
    "if(time_str[0]>2000): #년도\n",
    "    print('20세기가 아닙니다.\\n제대로 된 입력이 아닙니다.') \n",
    "elif(time_str[1]>12): #월\n",
    "    print('잘못된 월입니다.\\n제대로 된 입력이 아닙니다.')\n",
    "elif((time_str[1] == 4,6,9,11) and (time_str[2]>30)): #일\n",
    "    print('잘못된 일입니다.\\n제대로 된 입력이 아닙니다.')\n",
    "elif((time_str[1] == 2) and (time_str[2]>30)):\n",
    "    print('잘못된 일입니다.\\n제대로 된 입력이 아닙니다.')\n",
    "elif(time_str[2]>32):\n",
    "    print('잘못된 일입니다.\\n제대로 된 입력이 아닙니다.')\n",
    "else: \n",
    "    print('제대로 된 입력입니다.')"
   ]
  },
  {
   "cell_type": "code",
   "execution_count": null,
   "id": "553a031d",
   "metadata": {},
   "outputs": [],
   "source": []
  },
  {
   "cell_type": "code",
   "execution_count": null,
   "id": "82fe7ca6",
   "metadata": {},
   "outputs": [],
   "source": []
  }
 ],
 "metadata": {
  "kernelspec": {
   "display_name": "Python 3",
   "language": "python",
   "name": "python3"
  },
  "language_info": {
   "codemirror_mode": {
    "name": "ipython",
    "version": 3
   },
   "file_extension": ".py",
   "mimetype": "text/x-python",
   "name": "python",
   "nbconvert_exporter": "python",
   "pygments_lexer": "ipython3",
   "version": "3.8.8"
  }
 },
 "nbformat": 4,
 "nbformat_minor": 5
}
