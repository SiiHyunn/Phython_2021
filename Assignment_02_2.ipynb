{
 "cells": [
  {
   "cell_type": "code",
   "execution_count": 23,
   "id": "b031862a",
   "metadata": {},
   "outputs": [
    {
     "name": "stdout",
     "output_type": "stream",
     "text": [
      "숫자를 입력하세요: 13\n",
      "숫자를 입력하세요: 7\n",
      "숫자를 입력하세요: 14\n",
      "숫자를 입력하세요: 5\n",
      "숫자를 입력하세요: 8\n"
     ]
    }
   ],
   "source": [
    "score = []\n",
    "for i in range(5):\n",
    "    score.append(int(input('숫자를 입력하세요: ')))"
   ]
  },
  {
   "cell_type": "code",
   "execution_count": 24,
   "id": "c6f12f3b",
   "metadata": {},
   "outputs": [
    {
     "name": "stdout",
     "output_type": "stream",
     "text": [
      "평균: 9.4\n",
      "\n",
      "평균을 상회하는 숫자 개수: 2\n"
     ]
    }
   ],
   "source": [
    "num = 0\n",
    "\n",
    "arr = sum(score)/len(score)\n",
    "print(f'평균: {arr}')\n",
    "\n",
    "for i in range(5):\n",
    "    if score[i]>arr:\n",
    "        num+=1\n",
    "\n",
    "print('\\n평균을 상회하는 숫자 개수:', num)"
   ]
  },
  {
   "cell_type": "code",
   "execution_count": null,
   "id": "8aeea696",
   "metadata": {},
   "outputs": [],
   "source": []
  }
 ],
 "metadata": {
  "kernelspec": {
   "display_name": "Python 3",
   "language": "python",
   "name": "python3"
  },
  "language_info": {
   "codemirror_mode": {
    "name": "ipython",
    "version": 3
   },
   "file_extension": ".py",
   "mimetype": "text/x-python",
   "name": "python",
   "nbconvert_exporter": "python",
   "pygments_lexer": "ipython3",
   "version": "3.8.8"
  }
 },
 "nbformat": 4,
 "nbformat_minor": 5
}
