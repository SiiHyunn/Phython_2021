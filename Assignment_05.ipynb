{
 "cells": [
  {
   "cell_type": "code",
   "execution_count": 2,
   "id": "fe7b8920",
   "metadata": {},
   "outputs": [
    {
     "name": "stdout",
     "output_type": "stream",
     "text": [
      "1에서 9까지의 수를 입력하세요: 11\n",
      "1에서 9까지의 수를 다시 입력하세요: 2\n",
      "2 * 1 = 2\n",
      "2 * 2 = 4\n",
      "2 * 3 = 6\n",
      "2 * 4 = 8\n",
      "2 * 5 = 10\n",
      "2 * 6 = 12\n",
      "2 * 7 = 14\n",
      "2 * 8 = 16\n",
      "2 * 9 = 18\n"
     ]
    }
   ],
   "source": [
    "num=int(input('1에서 9까지의 수를 입력하세요: '))\n",
    "\n",
    "while(1):\n",
    "    if((num>=1) & (num<=9)):\n",
    "        for i in range(9):\n",
    "            print(num,'*', i+1, '=', num*(i+1))\n",
    "        break\n",
    "    else:\n",
    "        num=int(input('1에서 9까지의 수를 다시 입력하세요: '))\n",
    "        "
   ]
  },
  {
   "cell_type": "code",
   "execution_count": 11,
   "id": "3507eb53",
   "metadata": {},
   "outputs": [
    {
     "name": "stdout",
     "output_type": "stream",
     "text": [
      "숫자를 입력하세요: 5\n",
      "     *\n",
      "    **\n",
      "   ***\n",
      "  ****\n",
      " *****\n"
     ]
    }
   ],
   "source": [
    "num = int(input('숫자를 입력하세요: '))\n",
    "\n",
    "for i in range(num):\n",
    "    print(' '*(num-i-1), '*'*(i+1))"
   ]
  },
  {
   "cell_type": "code",
   "execution_count": 153,
   "id": "d665f261",
   "metadata": {},
   "outputs": [
    {
     "name": "stdout",
     "output_type": "stream",
     "text": [
      "마지막 수 입력 :14\n",
      "2 : 소수\n",
      "3 : 소수\n",
      "4 : 합성수\n",
      "5 : 소수\n",
      "6 : 합성수\n",
      "7 : 소수\n",
      "8 : 합성수\n",
      "9 : 합성수\n",
      "10 : 합성수\n",
      "11 : 소수\n",
      "12 : 합성수\n",
      "13 : 소수\n",
      "14 : 합성수\n"
     ]
    }
   ],
   "source": [
    "def isPrime(num):\n",
    "    i = 2\n",
    "    while (num % i != 0):\n",
    "        i += 1\n",
    "    if (num == i):\n",
    "        print(str(num), \": 소수\")\n",
    "    else:\n",
    "        print(str(num), \": 합성수\")\n",
    "    \n",
    "\n",
    "num = int(input('마지막 수 입력 :'))\n",
    "\n",
    "for i in range(2, num+1):\n",
    "    isPrime(i)"
   ]
  },
  {
   "cell_type": "code",
   "execution_count": 184,
   "id": "ef85067e",
   "metadata": {},
   "outputs": [
    {
     "name": "stdout",
     "output_type": "stream",
     "text": [
      "숫자를 입력하세요 :100\n",
      "결과는 1.6349839001848923입니다.\n"
     ]
    }
   ],
   "source": [
    "n = int(input('숫자를 입력하세요 :'))\n",
    "result = 0\n",
    "\n",
    "for i in range(1,n+1):\n",
    "    result += 1/i**2\n",
    "\n",
    "print('결과는 {}입니다.'.format(result))"
   ]
  },
  {
   "cell_type": "code",
   "execution_count": 187,
   "id": "0a01cec4",
   "metadata": {},
   "outputs": [
    {
     "name": "stdout",
     "output_type": "stream",
     "text": [
      "n을 입력하시오 :5\n",
      "   1    2    3    4    5 \n",
      "  10    9    8    7    6 \n",
      "  11   12   13   14   15 \n",
      "  20   19   18   17   16 \n",
      "  21   22   23   24   25 \n"
     ]
    }
   ],
   "source": [
    "n = int(input('n을 입력하시오 :'))\n",
    "\n",
    "slist = list(range(1, n*n+1))\n",
    "\n",
    "for i in range(n):\n",
    "    t=slist[i*n:(i+1)*n]\n",
    "    \n",
    "    if i%2 == 1:\n",
    "        t.reverse()\n",
    "    slist[i*n:(i+1)*n] = t\n",
    "    \n",
    "    k=0;\n",
    "    \n",
    "for i in slist:\n",
    "    k+=1\n",
    "    print('{:4d}'.format(i), end=' ')\n",
    "    if k% n == 0:\n",
    "        print()"
   ]
  },
  {
   "cell_type": "code",
   "execution_count": 204,
   "id": "f24a8016",
   "metadata": {},
   "outputs": [
    {
     "name": "stdout",
     "output_type": "stream",
     "text": [
      "세 자리의 암스트롱 수 : 153 370 371 407 "
     ]
    }
   ],
   "source": [
    "n_list = []\n",
    "\n",
    "for i in range(100, 1000, 1):\n",
    "    num1 = i // 100                 \n",
    "    num2 = (i%100) // 10          \n",
    "    num3 = ((i%100) % 10) \n",
    "    \n",
    "    result = (num1**3) + (num2**3) + (num3**3)\n",
    "    \n",
    "    if(result == i):\n",
    "        n_list.append(i)\n",
    "\n",
    "print('세 자리의 암스트롱 수 :', end = ' ')\n",
    "for i in n_list:\n",
    "    print('{}'.format(i), end = ' ')\n"
   ]
  },
  {
   "cell_type": "code",
   "execution_count": 229,
   "id": "bc903c41",
   "metadata": {},
   "outputs": [
    {
     "name": "stdout",
     "output_type": "stream",
     "text": [
      "1)덧셈   2)뺄셈   3)곱셈   4)나눗셈\n",
      "어떤 연산을 원하는지 번호를 입력하세요: 6\n",
      "잘못 입력하였습니다.\n"
     ]
    }
   ],
   "source": [
    "print('1)덧셈   2)뺄셈   3)곱셈   4)나눗셈')\n",
    "\n",
    "num = int(input('어떤 연산을 원하는지 번호를 입력하세요: '))\n",
    "\n",
    "if((num>4) | (num<1)):\n",
    "    print('잘못 입력하였습니다.')\n",
    "    \n",
    "else:\n",
    "    print('연산을 원하는 숫자 두개를 입력하세요')\n",
    "    num1 = int(input())\n",
    "    num2 = int(input())\n",
    "    if(num == 1):\n",
    "        result = num1+num2\n",
    "        print(num1, '+', num2, '=', result)\n",
    "    elif(num == 2):\n",
    "        result = num1-num2\n",
    "        print(num1, '-', num2, '=', result)\n",
    "    elif(num == 3):\n",
    "        result = num1*num2\n",
    "        print(num1, '*', num2, '=', result)\n",
    "    else:\n",
    "        result = num1/num2\n",
    "        print(num1, '/', num2, '=', result)"
   ]
  },
  {
   "cell_type": "code",
   "execution_count": 58,
   "id": "0ccfbce8",
   "metadata": {},
   "outputs": [
    {
     "name": "stdout",
     "output_type": "stream",
     "text": [
      "1 인치 = 2.54 센티미터\n",
      "2 인치 = 5.08 센티미터\n",
      "3 인치 = 7.62 센티미터\n",
      "4 인치 = 10.16 센티미터\n",
      "5 인치 = 12.7 센티미터\n"
     ]
    }
   ],
   "source": [
    "def inch2cm(inch):\n",
    "    cm = inch*2.54\n",
    "    return cm\n",
    "\n",
    "for i in range(1,6):\n",
    "    print(i,'인치 =', inch2cm(i), '센티미터')"
   ]
  },
  {
   "cell_type": "code",
   "execution_count": 72,
   "id": "aff7c10a",
   "metadata": {},
   "outputs": [
    {
     "name": "stdout",
     "output_type": "stream",
     "text": [
      "세 수를 입력하시오: 10 30 20\n",
      "10, 20, 30의 평균값은 20.0\n",
      "10, 20, 30의 최댓값은 30\n",
      "10, 20, 30의 최솟값은 10\n"
     ]
    }
   ],
   "source": [
    "def mean3(a,b,c):\n",
    "    return (a+b+c)/3\n",
    "def max3(a,b,c):\n",
    "    return max(a,b,c)\n",
    "def min3(a,b,c):\n",
    "    return min(a,b,c)\n",
    "\n",
    "n_list = input('세 수를 입력하시오: ').split()\n",
    "n_list.sort()\n",
    "a = int(n_list[0])\n",
    "b = int(n_list[1])\n",
    "c = int(n_list[2])\n",
    "\n",
    "print('{}, {}, {}의 평균값은 {}'.format(a,b,c,mean3(a,b,c)))\n",
    "print('{}, {}, {}의 최댓값은 {}'.format(a,b,c,max3(a,b,c)))\n",
    "print('{}, {}, {}의 최솟값은 {}'.format(a,b,c,min3(a,b,c)))"
   ]
  },
  {
   "cell_type": "code",
   "execution_count": 91,
   "id": "9e8c1dcd",
   "metadata": {},
   "outputs": [
    {
     "name": "stdout",
     "output_type": "stream",
     "text": [
      "정수를 여러 개 입력하시오: 3 45 32 5 7 8 4 44 5 90 17\n",
      "평균값은 23.6\n",
      "최댓값은 90\n",
      "최솟값은 3\n"
     ]
    }
   ],
   "source": [
    "def mean_of_n(nums):\n",
    "    return round(sum(nums)/len(nums),1)\n",
    "def max_of_n(nums):\n",
    "    return max(nums)\n",
    "def min_of_n(nums):\n",
    "    return min(nums)\n",
    "\n",
    "n_list = input('정수를 여러 개 입력하시오: ').split()\n",
    "\n",
    "n_list = list(map(int, n_list))\n",
    "\n",
    "print('평균값은', mean_of_n(n_list))\n",
    "print('최댓값은', max_of_n(n_list))\n",
    "print('최솟값은', min_of_n(n_list))"
   ]
  },
  {
   "cell_type": "code",
   "execution_count": 214,
   "id": "c1af8a2c",
   "metadata": {},
   "outputs": [
    {
     "name": "stdout",
     "output_type": "stream",
     "text": [
      "[3, 4, 5, 45, 56]\n",
      "[3, 4, 5, 6, 7, 8, 9]\n"
     ]
    }
   ],
   "source": [
    "def my_sort(*numbers):\n",
    "    n_list = []\n",
    "    for i in range(len(numbers)):\n",
    "        n_list.append(numbers[i])\n",
    "    n_list.sort()\n",
    "    return print(n_list)\n",
    "\n",
    "my_sort(45,3,4,56,5)\n",
    "my_sort(9,8,7,6,5,4,3)"
   ]
  },
  {
   "cell_type": "code",
   "execution_count": 223,
   "id": "b714c63d",
   "metadata": {},
   "outputs": [
    {
     "name": "stdout",
     "output_type": "stream",
     "text": [
      "쉼표로 구분된 정수를 여러 개 입력하시오: 56,67,89,34,24,300,99\n",
      "입력된 정수의 리스트: [56, 67, 89, 34, 24, 300, 99]\n",
      "정렬된 정수의 리스트: 24 34 56 67 89 99 300 "
     ]
    }
   ],
   "source": [
    "n_list = input('쉼표로 구분된 정수를 여러 개 입력하시오: ').split(',')\n",
    "n_list = list(map(int, n_list))\n",
    "\n",
    "print('입력된 정수의 리스트: {}'.format(n_list))\n",
    "n_list.sort()\n",
    "print('정렬된 정수의 리스트:',end = ' ')\n",
    "for i in n_list:\n",
    "    print('{}'.format(i), end = ' ')"
   ]
  },
  {
   "cell_type": "code",
   "execution_count": 102,
   "id": "fbce80bc",
   "metadata": {},
   "outputs": [
    {
     "name": "stdout",
     "output_type": "stream",
     "text": [
      "2021-10-24 20:48:38.985823\n",
      "현재 시간은 2021년 10월 24일입니다.\n",
      "지금 태어난 아이의 주민등록번호 앞자리는 : 211024\n"
     ]
    }
   ],
   "source": [
    "import datetime\n",
    "date = datetime.datetime.now()\n",
    "print(date)\n",
    "\n",
    "y,m,d = date.year, date.month, date.day\n",
    "new_num = (y%100)*10000 + m*100 + d\n",
    "\n",
    "print('현재 시간은 {}년 {}월 {}일입니다.'.format(y,m,d))\n",
    "print('지금 태어난 아이의 주민등록번호 앞자리는 : {}'.format(new_num))"
   ]
  },
  {
   "cell_type": "code",
   "execution_count": 237,
   "id": "8ce0fbe3",
   "metadata": {},
   "outputs": [
    {
     "name": "stdout",
     "output_type": "stream",
     "text": [
      "주어진 문자열: Park(Java City) Kim(C City) Kang(Bython City) Lee(Bython City) Hong(Ruby City) Cho(Bython City) Koo(C City) Ryu(C++ City) "
     ]
    }
   ],
   "source": [
    "n_list = ['Park(Java City)', 'Kim(C City)', 'Kang(Bython City)', 'Lee(Bython City)', 'Hong(Ruby City)', 'Cho(Bython City)', \n",
    "          'Koo(C City)', 'Ryu(C++ City)']\n",
    "print('주어진 문자열:', end=' ')\n",
    "for i in range(len(n_list)):\n",
    "    print(n_list[i], end=' ')"
   ]
  },
  {
   "cell_type": "code",
   "execution_count": null,
   "id": "ecaadbaf",
   "metadata": {},
   "outputs": [],
   "source": []
  }
 ],
 "metadata": {
  "kernelspec": {
   "display_name": "Python 3",
   "language": "python",
   "name": "python3"
  },
  "language_info": {
   "codemirror_mode": {
    "name": "ipython",
    "version": 3
   },
   "file_extension": ".py",
   "mimetype": "text/x-python",
   "name": "python",
   "nbconvert_exporter": "python",
   "pygments_lexer": "ipython3",
   "version": "3.8.8"
  }
 },
 "nbformat": 4,
 "nbformat_minor": 5
}
