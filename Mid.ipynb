{
 "cells": [
  {
   "cell_type": "code",
   "execution_count": 4,
   "id": "2b142853",
   "metadata": {},
   "outputs": [
    {
     "name": "stdout",
     "output_type": "stream",
     "text": [
      "1.1666666666666665\n"
     ]
    }
   ],
   "source": [
    "def f_sum(x,y):\n",
    "    result=0;\n",
    "    for i in range(x,y+1):\n",
    "        result += i/(i+1)\n",
    "    return result\n",
    "\n",
    "print(f_sum(1,2))"
   ]
  },
  {
   "cell_type": "code",
   "execution_count": 60,
   "id": "018ac644",
   "metadata": {},
   "outputs": [
    {
     "name": "stdout",
     "output_type": "stream",
     "text": [
      "(input)이름 입력 : 홍길동\n",
      "전화번호 입력 : 010-1234-5678\n",
      "(input)이름 입력 : 김철수\n",
      "전화번호 입력 : 010-4567-1234\n",
      "(input)이름 입력 : \n",
      "(search)이름 입력 : 김철수\n",
      "김철수의 전화번호는 010-4567-1234입니다.\n",
      "(search)이름 입력 : 홍철수\n",
      "홍철수의 전화번호는 리스트에 없습니다.\n",
      "(search)이름 입력 : \n"
     ]
    }
   ],
   "source": [
    "dictionary = {}\n",
    "\n",
    "while(1):\n",
    "    name = input(\"(input)이름 입력 : \")\n",
    "    if name == \"\":\n",
    "        break\n",
    "    tel = input(\"전화번호 입력 : \")\n",
    "    dictionary[name] = tel\n",
    "    \n",
    "while(1):\n",
    "    search = input(\"(search)이름 입력 : \")\n",
    "    if search == \"\":\n",
    "        break\n",
    "    elif search in dictionary:\n",
    "        print(\"{}의 전화번호는 {}입니다.\".format(search, dictionary[search]))\n",
    "    else:\n",
    "                print(\"{}의 전화번호는 리스트에 없습니다.\".format(search))"
   ]
  },
  {
   "cell_type": "code",
   "execution_count": 68,
   "id": "83898fe6",
   "metadata": {},
   "outputs": [],
   "source": [
    "f = open('power.txt', 'a+')\n",
    "\n"
   ]
  },
  {
   "cell_type": "code",
   "execution_count": 67,
   "id": "1adfa000",
   "metadata": {},
   "outputs": [
    {
     "name": "stdout",
     "output_type": "stream",
     "text": [
      "총 자료의 수 : 10       합계 : 833           평균 : 83.3\n"
     ]
    }
   ],
   "source": [
    "def list_chuck(lst, n):\n",
    "    return [lst[i:i+n] for i in range(0, len(lst), n)]\n",
    "\n",
    "f = open(\"score.txt\", \"w\")\n",
    "f.write(\"75 81 86 74 69 98 77 95 78 100\")\n",
    "f.close()\n",
    "\n",
    "f = open(\"score.txt\", 'r')\n",
    "scores = f.readlines()\n",
    "f.close()\n",
    "\n",
    "str_scores = \" \".join(scores)\n",
    "split_score = str_scores.split()\n",
    "split_score = list(map(int,split_score))\n",
    "sum_score = sum(split_score)\n",
    "len_score = len(split_score)\n",
    "avr_score = sum_score / len_score\n",
    "\n",
    "fp = open(\"result.txt\", \"w\")\n",
    "fp.write(\"총 자료의 수 ; \")\n",
    "fp.write(str(len_score))\n",
    "fp.write(\"합계 ; \")\n",
    "fp.write(str(sum_score))\n",
    "fp.write(\"평균 ; \")\n",
    "fp.write(str(avr_score))\n",
    "fp.close()\n",
    "\n",
    "print(\"총 자료의 수 : {}       합계 : {}           평균 : {}\".format(len_score, sum_score, avr_score))\n"
   ]
  },
  {
   "cell_type": "code",
   "execution_count": 59,
   "id": "68a634d6",
   "metadata": {},
   "outputs": [
    {
     "name": "stdout",
     "output_type": "stream",
     "text": [
      "[('성공', ['박', 104]), ('승리', ['김', 102]), ('오름', ['이', 103]), ('지성', ['김', 101])]\n"
     ]
    }
   ],
   "source": [
    "dictionary = {\"지성\" : ['김', 101], '오름' : ['이', 103], '성공' : ['박', 104], '승리' : ['김', 102]}\n",
    "\n",
    "dictionary = sorted(dictionary.items())\n",
    "print(dictionary)"
   ]
  },
  {
   "cell_type": "code",
   "execution_count": null,
   "id": "934537ab",
   "metadata": {},
   "outputs": [],
   "source": []
  },
  {
   "cell_type": "code",
   "execution_count": null,
   "id": "54080160",
   "metadata": {},
   "outputs": [],
   "source": []
  }
 ],
 "metadata": {
  "kernelspec": {
   "display_name": "Python 3",
   "language": "python",
   "name": "python3"
  },
  "language_info": {
   "codemirror_mode": {
    "name": "ipython",
    "version": 3
   },
   "file_extension": ".py",
   "mimetype": "text/x-python",
   "name": "python",
   "nbconvert_exporter": "python",
   "pygments_lexer": "ipython3",
   "version": "3.8.8"
  }
 },
 "nbformat": 4,
 "nbformat_minor": 5
}
