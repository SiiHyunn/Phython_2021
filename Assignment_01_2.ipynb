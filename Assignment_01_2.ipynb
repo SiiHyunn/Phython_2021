{
 "cells": [
  {
   "cell_type": "code",
   "execution_count": 23,
   "id": "fe1ac1c0",
   "metadata": {},
   "outputs": [
    {
     "name": "stdout",
     "output_type": "stream",
     "text": [
      "(3, 4, 5)\n",
      "(4, 3, 5)\n",
      "(5, 12, 13)\n",
      "(6, 8, 10)\n",
      "(7, 24, 25)\n",
      "(8, 6, 10)\n",
      "(8, 15, 17)\n",
      "(9, 12, 15)\n",
      "(10, 24, 26)\n",
      "(12, 5, 13)\n",
      "(12, 9, 15)\n",
      "(12, 16, 20)\n",
      "(15, 8, 17)\n",
      "(15, 20, 25)\n",
      "(16, 12, 20)\n",
      "(20, 15, 25)\n",
      "(20, 21, 29)\n",
      "(21, 20, 29)\n",
      "(24, 7, 25)\n",
      "(24, 10, 26)\n"
     ]
    }
   ],
   "source": [
    "for a in range(1,30):\n",
    "    for b in range(1,30):\n",
    "        for c in range (1,30):\n",
    "            if a*a + b*b == c*c:\n",
    "                 print('('+ str(a) + ', '+ str(b) + ', ' + str(c) +')')"
   ]
  },
  {
   "cell_type": "code",
   "execution_count": null,
   "id": "9a0dd81d",
   "metadata": {},
   "outputs": [],
   "source": []
  }
 ],
 "metadata": {
  "kernelspec": {
   "display_name": "Python 3",
   "language": "python",
   "name": "python3"
  },
  "language_info": {
   "codemirror_mode": {
    "name": "ipython",
    "version": 3
   },
   "file_extension": ".py",
   "mimetype": "text/x-python",
   "name": "python",
   "nbconvert_exporter": "python",
   "pygments_lexer": "ipython3",
   "version": "3.8.8"
  }
 },
 "nbformat": 4,
 "nbformat_minor": 5
}
