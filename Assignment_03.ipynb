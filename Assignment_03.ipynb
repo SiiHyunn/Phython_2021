{
 "cells": [
  {
   "cell_type": "code",
   "execution_count": 25,
   "id": "e91aeb4b",
   "metadata": {},
   "outputs": [
    {
     "name": "stdout",
     "output_type": "stream",
     "text": [
      "Americano \t가격 : 3000원\n",
      "Ice Americano \t가격 : 3500원\n",
      "Cappuccino \t가격 : 4000원\n",
      "Cafe Latte \t가격 : 4500원\n",
      "Espresso \t가격 : 3600원\n"
     ]
    }
   ],
   "source": [
    "menu = {'Americano' : '3000원', 'Ice Americano' : '3500원', 'Cappuccino' : '4000원', \n",
    "        'Cafe Latte' : '4500원', 'Espresso': '3600원'}\n",
    "for key in menu:\n",
    "    print(key, '\\t가격 :', menu[key])"
   ]
  },
  {
   "cell_type": "code",
   "execution_count": 27,
   "id": "1f3179a8",
   "metadata": {},
   "outputs": [
    {
     "name": "stdout",
     "output_type": "stream",
     "text": [
      "Americano \t가격 : 3000원\n",
      "Ice Americano \t가격 : 3500원\n",
      "Cappuccino \t가격 : 4000원\n",
      "Cafe Latte \t가격 : 4500원\n",
      "Espresso \t가격 : 3600원\n",
      "위의 메뉴중 하나를 선택하세요: Vanila Latte\n",
      "미안합니다. Vanila Latte는 메뉴에 없습니다.\n"
     ]
    }
   ],
   "source": [
    "menu = {'Americano' : '3000원', 'Ice Americano' : '3500원', 'Cappuccino' : '4000원', \n",
    "        'Cafe Latte' : '4500원', 'Espresso': '3600원'}\n",
    "for key in menu:\n",
    "    print(key, '\\t가격 :', menu[key])\n",
    "drink=(input('위의 메뉴중 하나를 선택하세요: '))\n",
    "\n",
    "if(drink in menu):\n",
    "    print('{}는 {}입니다. 결제를 부탁합니다.'.format(drink,menu.get(drink)))\n",
    "else :\n",
    "    print('미안합니다. {}는 메뉴에 없습니다.'.format(drink))"
   ]
  },
  {
   "cell_type": "code",
   "execution_count": null,
   "id": "3b10a9e4",
   "metadata": {},
   "outputs": [],
   "source": []
  }
 ],
 "metadata": {
  "kernelspec": {
   "display_name": "Python 3",
   "language": "python",
   "name": "python3"
  },
  "language_info": {
   "codemirror_mode": {
    "name": "ipython",
    "version": 3
   },
   "file_extension": ".py",
   "mimetype": "text/x-python",
   "name": "python",
   "nbconvert_exporter": "python",
   "pygments_lexer": "ipython3",
   "version": "3.8.8"
  }
 },
 "nbformat": 4,
 "nbformat_minor": 5
}
