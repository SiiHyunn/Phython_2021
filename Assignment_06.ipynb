{
 "cells": [
  {
   "cell_type": "code",
   "execution_count": 3,
   "id": "eeaa1059",
   "metadata": {},
   "outputs": [
    {
     "name": "stdout",
     "output_type": "stream",
     "text": [
      "1728\n",
      "8000\n",
      "90\n",
      "4188.790204786391\n",
      "14137.166941154068\n",
      "251327.41228718346\n"
     ]
    }
   ],
   "source": [
    "import math as m\n",
    "\n",
    "def cube(s):\n",
    "    return print(s**3)\n",
    "def cuboid(l,w,h):\n",
    "    return print(l*w*h)\n",
    "def cone(r,h):\n",
    "    return print((m.pi*h*r**2)/3)\n",
    "def sphere(r):\n",
    "    return print(4/3*(m.pi*r**3))\n",
    "def cylinder(r,h):\n",
    "    return print(m.pi*h*r**3)\n",
    "\n",
    "cube(12)\n",
    "cube(20)\n",
    "cuboid(3,5,6)\n",
    "cone(20,10)\n",
    "sphere(15)\n",
    "cylinder(20,10)"
   ]
  },
  {
   "cell_type": "code",
   "execution_count": 4,
   "id": "be7e366d",
   "metadata": {},
   "outputs": [
    {
     "name": "stdout",
     "output_type": "stream",
     "text": [
      "[3, 4, 5, 45, 56]\n",
      "[3, 4, 5, 6, 7, 8, 9]\n"
     ]
    }
   ],
   "source": [
    "def my_sort(*numbers):\n",
    "    n_list = []\n",
    "    for i in range(len(numbers)):\n",
    "        n_list.append(numbers[i])\n",
    "    n_list.sort()\n",
    "    return print(n_list)\n",
    "\n",
    "my_sort(45,3,4,56,5)\n",
    "my_sort(9,8,7,6,5,4,3)"
   ]
  },
  {
   "cell_type": "code",
   "execution_count": 7,
   "id": "444e6bd3",
   "metadata": {},
   "outputs": [
    {
     "name": "stdout",
     "output_type": "stream",
     "text": [
      "쉼표로 구분된 정수를 여러 개 입력하시오: 56,67,89,34,24,300,99\n",
      "입력된 정수의 리스트: [56, 67, 89, 34, 24, 300, 99]\n",
      "정렬된 정수의 리스트: 24 34 56 67 89 99 300 "
     ]
    }
   ],
   "source": [
    "n_list = input('쉼표로 구분된 정수를 여러 개 입력하시오: ').split(',')\n",
    "n_list = list(map(int, n_list))\n",
    "\n",
    "print('입력된 정수의 리스트: {}'.format(n_list))\n",
    "n_list.sort()\n",
    "print('정렬된 정수의 리스트:',end = ' ')\n",
    "for i in n_list:\n",
    "    print('{}'.format(i), end = ' ')"
   ]
  },
  {
   "cell_type": "code",
   "execution_count": 24,
   "id": "33f6b011",
   "metadata": {},
   "outputs": [
    {
     "name": "stdout",
     "output_type": "stream",
     "text": [
      "주어진 문자열: Park(Java City), Kim(C City), Kang(Bython City), Lee(Bython City), Hong(Ruby City), Cho(Bython City), Koo(C City), Ryu(C++ City)\n",
      "수정된 문자열: Park(Java City), Kim(C City), Kang(Python City), Lee(Python City), Hong(Ruby City), Cho(Python City), Koo(C City), Ryu(C++ City)\n",
      "Bython 문자열은 모두 3번 수정했습니다.\n"
     ]
    }
   ],
   "source": [
    "arr = \"Park(Java City), Kim(C City), Kang(Bython City), Lee(Bython City), Hong(Ruby City), Cho(Bython City), Koo(C City), Ryu(C++ City)\"\n",
    "print('주어진 문자열:',arr)\n",
    "\n",
    "print('수정된 문자열:', arr.replace(\"Bython\",\"Python\"))\n",
    "\n",
    "print('Bython 문자열은 모두 {}번 수정했습니다.'.format(arr.count(\"Bython\")))"
   ]
  },
  {
   "cell_type": "code",
   "execution_count": 41,
   "id": "a0b2b4dc",
   "metadata": {},
   "outputs": [
    {
     "name": "stdout",
     "output_type": "stream",
     "text": [
      "sin(  0) = 0.000, cos(  0) = 1.000, tan(  0) = 0.000\n",
      "sin( 10) = 0.174, cos( 10) = 0.985, tan( 10) = 0.176\n",
      "sin( 20) = 0.342, cos( 20) = 0.940, tan( 20) = 0.364\n",
      "sin( 30) = 0.500, cos( 30) = 0.866, tan( 30) = 0.577\n",
      "sin( 40) = 0.643, cos( 40) = 0.766, tan( 40) = 0.839\n",
      "sin( 50) = 0.766, cos( 50) = 0.643, tan( 50) = 1.192\n",
      "sin( 60) = 0.866, cos( 60) = 0.500, tan( 60) = 1.732\n",
      "sin( 70) = 0.940, cos( 70) = 0.342, tan( 70) = 2.747\n",
      "sin( 80) = 0.985, cos( 80) = 0.174, tan( 80) = 5.671\n",
      "sin( 90) = 1.000, cos( 90) = 0.000, tan( 90) = 16331239353195370.000\n",
      "sin(100) = 0.985, cos(100) = -0.174, tan(100) = -5.671\n",
      "sin(110) = 0.940, cos(110) = -0.342, tan(110) = -2.747\n",
      "sin(120) = 0.866, cos(120) = -0.500, tan(120) = -1.732\n",
      "sin(130) = 0.766, cos(130) = -0.643, tan(130) = -1.192\n",
      "sin(140) = 0.643, cos(140) = -0.766, tan(140) = -0.839\n",
      "sin(150) = 0.500, cos(150) = -0.866, tan(150) = -0.577\n",
      "sin(160) = 0.342, cos(160) = -0.940, tan(160) = -0.364\n",
      "sin(170) = 0.174, cos(170) = -0.985, tan(170) = -0.176\n",
      "sin(180) = 0.000, cos(180) = -1.000, tan(180) = -0.000\n"
     ]
    }
   ],
   "source": [
    "import math as m\n",
    "\n",
    "for i in range(0,190,10):\n",
    "    r = m.radians(i)\n",
    "    print('sin({:3d}) = {:.3f}, cos({:3d}) = {:.3f}, tan({:3d}) = {:.3f}'.format(i, m.sin(r), i, m.cos(r), i, m.tan(r)))"
   ]
  },
  {
   "cell_type": "code",
   "execution_count": 47,
   "id": "d619defd",
   "metadata": {},
   "outputs": [
    {
     "name": "stdout",
     "output_type": "stream",
     "text": [
      "로미오의 승부: 가위\n",
      "줄리엣의 승부: 바위\n",
      "줄리엣이 이겼습니다.\n"
     ]
    }
   ],
   "source": [
    "import random\n",
    "\n",
    "r = random.randrange(0,3) # 0: 가위 1: 바위 2:보\n",
    "j = random.randrange(0,3)\n",
    "\n",
    "win = 0 #짐: 0 비김: 1 이김:2\n",
    "\n",
    "if r==0:\n",
    "    print(\"로미오의 승부: 가위\")\n",
    "    if j==0:\n",
    "        print(\"줄리엣의 승부: 가위\")\n",
    "        win=1\n",
    "    elif j==1:\n",
    "        print(\"줄리엣의 승부: 바위\")\n",
    "        win=0\n",
    "    elif j==2:\n",
    "        print(\"줄리엣의 승부: 보\")\n",
    "        win=2\n",
    "        \n",
    "elif r==1:\n",
    "    print(\"로미오의 승부: 바위\")\n",
    "    if j==0:\n",
    "        print(\"줄리엣의 승부: 가위\")\n",
    "        win=2\n",
    "    elif j==1:\n",
    "        print(\"줄리엣의 승부: 바위\")\n",
    "        win=1\n",
    "    elif j==2:\n",
    "        print(\"줄리엣의 승부: 보\")\n",
    "        win=0\n",
    "        \n",
    "elif r==2:\n",
    "    print(\"로미오의 승부: 보\")\n",
    "    if j==0:\n",
    "        print(\"줄리엣의 승부: 가위\")\n",
    "        win=0\n",
    "    elif j==1:\n",
    "        (\"줄리엣의 승부: 바위\")\n",
    "        win=2\n",
    "    elif j==2:\n",
    "        (\"줄리엣의 승부: 보\")\n",
    "        win=1\n",
    "        \n",
    "if win==0:\n",
    "    print(\"줄리엣이 이겼습니다.\")\n",
    "elif win==1:\n",
    "    print(\"비겼습니다.\")\n",
    "elif win==2:\n",
    "    print(\"로미오가 이겼습니다.\")"
   ]
  },
  {
   "cell_type": "code",
   "execution_count": 56,
   "id": "b727bd1a",
   "metadata": {},
   "outputs": [
    {
     "name": "stdout",
     "output_type": "stream",
     "text": [
      "6\n",
      "1~20까지의 숫자를 입력하세요: 5\n",
      "5보다 큽니다!\n",
      "1~20까지의 숫자를 입력하세요: 8\n",
      "8보다 작습니다!\n",
      "1~20까지의 숫자를 입력하세요: 10\n",
      "10보다 작습니다!\n",
      "1~20까지의 숫자를 입력하세요: 4\n",
      "4보다 큽니다!\n",
      "1~20까지의 숫자를 입력하세요: 6\n",
      "정답입니다!\n",
      "5번 만에 맞추셨네요. 잘했어요^^\n"
     ]
    }
   ],
   "source": [
    "import random\n",
    "\n",
    "r = random.randrange(1, 20)\n",
    "n=0\n",
    "time = 0;\n",
    "\n",
    "while(1):\n",
    "    n = int(input(\"1~20까지의 숫자를 입력하세요: \"))\n",
    "    time = time + 1\n",
    "    \n",
    "    if n>r:\n",
    "        print(\"{}보다 작습니다!\".format(n))\n",
    "    elif n<r:\n",
    "        print(\"{}보다 큽니다!\".format(n))\n",
    "    elif n==r:\n",
    "        print(\"정답입니다!\")\n",
    "        break\n",
    "\n",
    "if time<4:\n",
    "    print(\"{}번 만에 맞춘 당신은 천재!\".format(time))\n",
    "elif time>=7:\n",
    "    print(\"{}번 만에 맞추다니 쩝쩝...\".format(time))\n",
    "else:\n",
    "    print(\"{}번 만에 맞추셨네요. 잘했어요^^\".format(time))"
   ]
  }
 ],
 "metadata": {
  "kernelspec": {
   "display_name": "Python 3",
   "language": "python",
   "name": "python3"
  },
  "language_info": {
   "codemirror_mode": {
    "name": "ipython",
    "version": 3
   },
   "file_extension": ".py",
   "mimetype": "text/x-python",
   "name": "python",
   "nbconvert_exporter": "python",
   "pygments_lexer": "ipython3",
   "version": "3.8.8"
  }
 },
 "nbformat": 4,
 "nbformat_minor": 5
}
