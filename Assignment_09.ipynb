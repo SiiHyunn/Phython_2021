{
 "cells": [
  {
   "cell_type": "code",
   "execution_count": 7,
   "id": "fd865988",
   "metadata": {},
   "outputs": [
    {
     "name": "stdout",
     "output_type": "stream",
     "text": [
      "[ 1  2  3  4  5  6  7  8  9 10]\n"
     ]
    }
   ],
   "source": [
    "import numpy as np #11.4\n",
    "\n",
    "a = np.arange(1,11)\n",
    "print(a)"
   ]
  },
  {
   "cell_type": "code",
   "execution_count": 8,
   "id": "1424b359",
   "metadata": {},
   "outputs": [
    {
     "name": "stdout",
     "output_type": "stream",
     "text": [
      "[10  9  8  7  6  5  4  3  2  1]\n"
     ]
    }
   ],
   "source": [
    "a = a[::-1]\n",
    "print(a)"
   ]
  },
  {
   "cell_type": "code",
   "execution_count": 10,
   "id": "b15cb272",
   "metadata": {},
   "outputs": [
    {
     "name": "stdout",
     "output_type": "stream",
     "text": [
      "[[10  9  8  7  6]\n",
      " [ 5  4  3  2  1]]\n"
     ]
    }
   ],
   "source": [
    "a = np.reshape(a,(2,5))\n",
    "print(a)"
   ]
  },
  {
   "cell_type": "code",
   "execution_count": 11,
   "id": "5d676f05",
   "metadata": {},
   "outputs": [
    {
     "name": "stdout",
     "output_type": "stream",
     "text": [
      "[[10  9]\n",
      " [ 8  7]\n",
      " [ 6  5]\n",
      " [ 4  3]\n",
      " [ 2  1]]\n"
     ]
    }
   ],
   "source": [
    "a = np.reshape(a,(5,2))\n",
    "print(a)"
   ]
  },
  {
   "cell_type": "code",
   "execution_count": 31,
   "id": "1b11092b",
   "metadata": {},
   "outputs": [
    {
     "name": "stdout",
     "output_type": "stream",
     "text": [
      "a = [0.29305486 0.76184222 0.75072086 0.27923228 0.21818679 0.60287734\n",
      " 0.9255267  0.72345892 0.24705305 0.25473384]\n",
      "최댓값 = 0.9255266993821754\n",
      "최솟값 = 0.21818679351746662\n",
      "최댓값 = 0.505668686237706\n"
     ]
    }
   ],
   "source": [
    "import random #11.6\n",
    "\n",
    "a = np.array([])\n",
    "\n",
    "for i in range(10):\n",
    "    a = np.append(a, np.random.random())\n",
    "    \n",
    "print('a =',a)\n",
    "print('최댓값 :', max(a))\n",
    "print('최솟값 :', min(a))\n",
    "print('평균값 :', a.mean())"
   ]
  },
  {
   "cell_type": "code",
   "execution_count": 34,
   "id": "c0549a8b",
   "metadata": {},
   "outputs": [
    {
     "name": "stdout",
     "output_type": "stream",
     "text": [
      "n을 입력하시오 : 5\n",
      "[[1 0 0 0 0]\n",
      " [0 2 0 0 0]\n",
      " [0 0 3 0 0]\n",
      " [0 0 0 4 0]\n",
      " [0 0 0 0 5]]\n"
     ]
    }
   ],
   "source": [
    "n = int(input('n을 입력하시오 : ')) #11.8\n",
    "\n",
    "arr1 = np.diag(1+np.arange(n))\n",
    "print(arr1)"
   ]
  },
  {
   "cell_type": "code",
   "execution_count": 37,
   "id": "338e89e3",
   "metadata": {},
   "outputs": [
    {
     "name": "stdout",
     "output_type": "stream",
     "text": [
      "a 배열 :  [ 0 10 20 40 60 80]\n",
      "b 배열 :  [ 0 20]\n",
      "a - b : [10 40 60 80]\n"
     ]
    }
   ],
   "source": [
    "a = np.array([0, 10, 20, 40, 60, 80]) #11.13\n",
    "b = np.array([0, 20])\n",
    "\n",
    "c = np.setdiff1d(a, b)\n",
    "\n",
    "print('a 배열 : ', a)\n",
    "print('b 배열 : ', b)\n",
    "print('a - b :', c)"
   ]
  },
  {
   "cell_type": "code",
   "execution_count": 90,
   "id": "3fa27a6a",
   "metadata": {},
   "outputs": [
    {
     "name": "stdout",
     "output_type": "stream",
     "text": [
      "n을 입력하시오 : 5\n",
      "[[1 0 0 0 0]\n",
      " [1 1 0 0 0]\n",
      " [1 1 1 0 0]\n",
      " [1 1 1 1 0]\n",
      " [1 1 1 1 1]]\n",
      "행렬의 모든 원소의 합: 15\n",
      "행렬의 행 방향 성분의 합: [5 4 3 2 1]\n",
      "행렬의 열 방향 성분의 합: [1 2 3 4 5]\n"
     ]
    }
   ],
   "source": [
    "n = int(input('n을 입력하시오 : ')) #11.15\n",
    "\n",
    "m = np.ones((n,n), dtype=np.int8)\n",
    "a = np.tril(m)\n",
    "print(a)\n",
    "print('행렬의 모든 원소의 합:',a.sum())\n",
    "print('행렬의 행 방향 성분의 합:',a.sum(axis=0))\n",
    "print('행렬의 열 방향 성분의 합:',a.sum(axis=1))"
   ]
  },
  {
   "cell_type": "code",
   "execution_count": 100,
   "id": "b6fde5d0",
   "metadata": {},
   "outputs": [
    {
     "name": "stdout",
     "output_type": "stream",
     "text": [
      "   Rank                         Title       Studio       Gross  Year\n",
      "0     1             Avengers: Endgame  Buena Vista  $2,796.30   2019\n",
      "1     2                        Avatar          Fox  $2,789.70   2009\n",
      "2     3                       Titanic    Paramount  $2,187.50   1997\n",
      "3     4  Star Wars: The Force Awakens  Buena Vista  $2,068.20   2015\n",
      "4     5        Avengers: Infinity War  Buena Vista  $2,048.40   2018\n",
      "5     6                Jurassic World    Universal  $1,671.70   2015\n",
      "6     7         Marvel's The Avengers  Buena Vista  $1,518.80   2012\n",
      "7     8                     Furious 7    Universal  $1,516.00   2015\n",
      "8     9       Avengers: Age of Ultron  Buena Vista  $1,405.40   2015\n",
      "9    10                 Black Panther  Buena Vista  $1,346.90   2018\n",
      "     Rank                         Title           Studio     Gross  Year\n",
      "772   773        Fun with Dick and Jane             Sony  $202.00   2005\n",
      "773   774  Teenage Mutant Ninja Turtles         New Line  $202.00   1990\n",
      "774   775              Kindergarten Cop        Universal  $202.00   1990\n",
      "775   776        Straight Outta Compton        Universal  $201.60   2015\n",
      "776   777                21 Jump Street             Sony  $201.60   2012\n",
      "777   778                     Yogi Bear  Warner Brothers  $201.60   2010\n",
      "778   779           Garfield: The Movie              Fox  $200.80   2004\n",
      "779   780                   Cats & Dogs  Warner Brothers  $200.70   2001\n",
      "780   781      The Hunt for Red October        Paramount  $200.50   1990\n",
      "781   782                      Valkyrie              MGM  $200.30   2008\n"
     ]
    }
   ],
   "source": [
    "import pandas as pd\n",
    "\n",
    "movies = pd.read_csv('C:/Users/Python/movies.csv')\n",
    "movies = pd.DataFrame(movies)\n",
    "print(movies[:10])\n",
    "print(movies[-10:])"
   ]
  },
  {
   "cell_type": "code",
   "execution_count": 103,
   "id": "ff7f7d62",
   "metadata": {},
   "outputs": [
    {
     "name": "stdout",
     "output_type": "stream",
     "text": [
      "행 개수 : 782\n",
      "열 개수 : 5\n"
     ]
    }
   ],
   "source": [
    "print('행 개수 :', movies.shape[0])\n",
    "print('열 개수 :', movies.shape[1])"
   ]
  },
  {
   "cell_type": "code",
   "execution_count": null,
   "id": "37ce2e7f",
   "metadata": {},
   "outputs": [],
   "source": []
  }
 ],
 "metadata": {
  "kernelspec": {
   "display_name": "Python 3",
   "language": "python",
   "name": "python3"
  },
  "language_info": {
   "codemirror_mode": {
    "name": "ipython",
    "version": 3
   },
   "file_extension": ".py",
   "mimetype": "text/x-python",
   "name": "python",
   "nbconvert_exporter": "python",
   "pygments_lexer": "ipython3",
   "version": "3.8.8"
  }
 },
 "nbformat": 4,
 "nbformat_minor": 5
}
