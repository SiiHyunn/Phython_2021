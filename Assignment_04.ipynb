{
 "cells": [
  {
   "cell_type": "code",
   "execution_count": 10,
   "id": "a8670ff5",
   "metadata": {},
   "outputs": [
    {
     "name": "stdout",
     "output_type": "stream",
     "text": [
      "지난 10일 동안 전일대비 매출이 감소한 날은 3일 입니다.\n"
     ]
    }
   ],
   "source": [
    "sales = (100,121,120,130,140,120,122,123,190,125)\n",
    "num=0\n",
    "\n",
    "for i in range(9):\n",
    "    if(sales[i]>sales[i+1]):\n",
    "        num = num + 1\n",
    "\n",
    "print('지난 10일 동안 전일대비 매출이 감소한 날은 {}일 입니다.'.format(num))"
   ]
  },
  {
   "cell_type": "code",
   "execution_count": 62,
   "id": "b45f229c",
   "metadata": {},
   "outputs": [
    {
     "ename": "TypeError",
     "evalue": "'tuple' object is not callable",
     "output_type": "error",
     "traceback": [
      "\u001b[1;31m---------------------------------------------------------------------------\u001b[0m",
      "\u001b[1;31mTypeError\u001b[0m                                 Traceback (most recent call last)",
      "\u001b[1;32m<ipython-input-62-74cd6f872949>\u001b[0m in \u001b[0;36m<module>\u001b[1;34m\u001b[0m\n\u001b[0;32m      1\u001b[0m \u001b[0mtup\u001b[0m \u001b[1;33m=\u001b[0m \u001b[1;33m(\u001b[0m\u001b[1;36m1\u001b[0m\u001b[1;33m,\u001b[0m \u001b[1;36m2\u001b[0m\u001b[1;33m,\u001b[0m \u001b[1;36m5\u001b[0m\u001b[1;33m,\u001b[0m \u001b[1;36m4\u001b[0m\u001b[1;33m,\u001b[0m \u001b[1;36m3\u001b[0m\u001b[1;33m,\u001b[0m \u001b[1;36m2\u001b[0m\u001b[1;33m,\u001b[0m \u001b[1;36m1\u001b[0m\u001b[1;33m,\u001b[0m \u001b[1;36m4\u001b[0m\u001b[1;33m,\u001b[0m \u001b[1;36m7\u001b[0m\u001b[1;33m,\u001b[0m \u001b[1;36m8\u001b[0m\u001b[1;33m,\u001b[0m \u001b[1;36m9\u001b[0m\u001b[1;33m,\u001b[0m \u001b[1;36m9\u001b[0m\u001b[1;33m,\u001b[0m \u001b[1;36m3\u001b[0m\u001b[1;33m,\u001b[0m \u001b[1;36m7\u001b[0m\u001b[1;33m,\u001b[0m \u001b[1;36m3\u001b[0m\u001b[1;33m)\u001b[0m\u001b[1;33m\u001b[0m\u001b[1;33m\u001b[0m\u001b[0m\n\u001b[1;32m----> 2\u001b[1;33m \u001b[0mset\u001b[0m\u001b[1;33m(\u001b[0m\u001b[0mtup\u001b[0m\u001b[1;33m)\u001b[0m\u001b[1;33m\u001b[0m\u001b[1;33m\u001b[0m\u001b[0m\n\u001b[0m",
      "\u001b[1;31mTypeError\u001b[0m: 'tuple' object is not callable"
     ]
    }
   ],
   "source": [
    "tup = (1, 2, 5, 4, 3, 2, 1, 4, 7, 8, 9, 9, 3, 7, 3)\n",
    "set(tup)"
   ]
  },
  {
   "cell_type": "code",
   "execution_count": 41,
   "id": "e2a5f520",
   "metadata": {},
   "outputs": [
    {
     "name": "stdout",
     "output_type": "stream",
     "text": [
      "주어진 리스트는 = [5, 6, 3, 9, 2, 12, 3, 8, 7]\n",
      "정렬된 결과는 = [2, 3, 3, 5, 6, 7, 8, 9, 12]\n"
     ]
    }
   ],
   "source": [
    "n_list = [5, 6, 3, 9, 2, 12, 3, 8, 7]\n",
    "\n",
    "print('주어진 리스트는 =', n_list)\n",
    "\n",
    "for i in range(len(n_list) - 1, 0, -1):\n",
    "        for j in range(i):\n",
    "            if n_list[j] > n_list[j + 1]:\n",
    "                n_list[j], n_list[j + 1] = n_list[j + 1], n_list[j]\n",
    "            \n",
    "print('정렬된 결과는 =', n_list)"
   ]
  },
  {
   "cell_type": "code",
   "execution_count": 54,
   "id": "d0f568e8",
   "metadata": {},
   "outputs": [
    {
     "name": "stdout",
     "output_type": "stream",
     "text": [
      "(4, 5, 2, 3, 8, 1, 9, 0)\n",
      "(4, 5, 2, 3, 8, 1, 9)\n",
      "(4, 5, 2, 3, 8, 1)\n",
      "(4, 5, 2, 3, 8)\n",
      "(4, 5, 2, 3)\n",
      "(4, 5, 2)\n",
      "(4, 5)\n",
      "(4,)\n"
     ]
    }
   ],
   "source": [
    "tu1 = (4, 5, 2, 3, 8, 1, 9, 0)\n",
    "\n",
    "for i in range(len(tu1)):\n",
    "    print(tu1[:len(tu1)-i])"
   ]
  },
  {
   "cell_type": "code",
   "execution_count": 69,
   "id": "62e90c87",
   "metadata": {},
   "outputs": [
    {
     "name": "stdout",
     "output_type": "stream",
     "text": [
      "마을 A와 B에 보낼 투표용지의 개수는 각각 971장과 1698장입니다.\n"
     ]
    }
   ],
   "source": [
    "population_A = (100, 150, 230, 120, 180, 100, 140, 95, 81, 21, 4)\n",
    "population_B = (300, 420, 530, 420, 400, 300, 40, 5, 1, 1, 1)\n",
    "\n",
    "result1 = sum(population_A[2:])\n",
    "result2 = sum(population_B[2:])\n",
    "\n",
    "print('마을 A와 B에 보낼 투표용지의 개수는 각각 {}장과 {}장입니다.'.format(result1, result2))"
   ]
  },
  {
   "cell_type": "code",
   "execution_count": 74,
   "id": "89404325",
   "metadata": {},
   "outputs": [
    {
     "name": "stdout",
     "output_type": "stream",
     "text": [
      "마을 A와 B의 고령화 정도는 각각 0.165와 0.003입니다.\n"
     ]
    }
   ],
   "source": [
    "population_A = (100, 150, 230, 120, 180, 100, 140, 95, 81, 21, 4)\n",
    "population_B = (300, 420, 530, 420, 400, 300, 40, 5, 1, 1, 1)\n",
    "\n",
    "population1 = sum(population_A)\n",
    "population2 = sum(population_B)\n",
    "\n",
    "oldman1 = sum(population_A[7:])\n",
    "oldman2 = sum(population_B[7:])\n",
    "\n",
    "print('마을 A와 B의 고령화 정도는 각각 {:.3f}와 {:.3f}입니다.'.format(oldman1/population1, oldman2/population2))"
   ]
  },
  {
   "cell_type": "code",
   "execution_count": 70,
   "id": "e1bf0fe4",
   "metadata": {},
   "outputs": [
    {
     "name": "stdout",
     "output_type": "stream",
     "text": [
      "{3, 4, 5}\n",
      "{0, 1, 2, 3, 4, 5, 6, 7}\n",
      "{6, 7}\n",
      "{0, 1, 2}\n",
      "{0, 1, 2, 6, 7}\n"
     ]
    }
   ],
   "source": [
    "s1 = {0,1,2,3,4,5}\n",
    "s2 = {3,4,5,6,7}\n",
    "\n",
    "print(s1 & s2)\n",
    "print(s1 | s2)\n",
    "print(s2 - s1)\n",
    "print(s1 - s2)\n",
    "print(s1 ^ s2)"
   ]
  },
  {
   "cell_type": "code",
   "execution_count": null,
   "id": "5ac77648",
   "metadata": {},
   "outputs": [],
   "source": []
  }
 ],
 "metadata": {
  "kernelspec": {
   "display_name": "Python 3",
   "language": "python",
   "name": "python3"
  },
  "language_info": {
   "codemirror_mode": {
    "name": "ipython",
    "version": 3
   },
   "file_extension": ".py",
   "mimetype": "text/x-python",
   "name": "python",
   "nbconvert_exporter": "python",
   "pygments_lexer": "ipython3",
   "version": "3.8.8"
  }
 },
 "nbformat": 4,
 "nbformat_minor": 5
}
