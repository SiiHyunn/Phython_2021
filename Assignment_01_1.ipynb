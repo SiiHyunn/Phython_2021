{
 "cells": [
  {
   "cell_type": "code",
   "execution_count": 17,
   "id": "821b3c9d",
   "metadata": {},
   "outputs": [
    {
     "name": "stdout",
     "output_type": "stream",
     "text": [
      "점수를 입력하세요: 98\n",
      "점수를 입력하세요: 78\n",
      "점수를 입력하세요: 56\n",
      "점수를 입력하세요: 64\n",
      "점수를 입력하세요: 81\n"
     ]
    }
   ],
   "source": [
    "grade = [0,0,0,0,0]\n",
    "for i in range(5):\n",
    "    score=int(input('점수를 입력하세요: '))\n",
    "    if score>=80:\n",
    "        grade[i]='1급'\n",
    "    elif score>=60:\n",
    "        grade[i]='2급'\n",
    "    else:\n",
    "        grade[i]='불합격'"
   ]
  },
  {
   "cell_type": "code",
   "execution_count": 18,
   "id": "40fe2908",
   "metadata": {},
   "outputs": [
    {
     "name": "stdout",
     "output_type": "stream",
     "text": [
      "1번 학생: 1급\n",
      "2번 학생: 2급\n",
      "3번 학생: 불합격\n",
      "4번 학생: 2급\n",
      "5번 학생: 1급\n"
     ]
    }
   ],
   "source": [
    "for j in range(5):\n",
    "    print('%d번 학생:'%(j+1),grade[j])"
   ]
  },
  {
   "cell_type": "code",
   "execution_count": null,
   "id": "5524c9d0",
   "metadata": {},
   "outputs": [],
   "source": []
  },
  {
   "cell_type": "code",
   "execution_count": null,
   "id": "07c08607",
   "metadata": {},
   "outputs": [],
   "source": []
  }
 ],
 "metadata": {
  "kernelspec": {
   "display_name": "Python 3",
   "language": "python",
   "name": "python3"
  },
  "language_info": {
   "codemirror_mode": {
    "name": "ipython",
    "version": 3
   },
   "file_extension": ".py",
   "mimetype": "text/x-python",
   "name": "python",
   "nbconvert_exporter": "python",
   "pygments_lexer": "ipython3",
   "version": "3.8.8"
  }
 },
 "nbformat": 4,
 "nbformat_minor": 5
}
