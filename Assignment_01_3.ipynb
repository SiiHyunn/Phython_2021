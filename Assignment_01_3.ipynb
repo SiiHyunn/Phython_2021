{
 "cells": [
  {
   "cell_type": "code",
   "execution_count": 11,
   "id": "6125515e",
   "metadata": {},
   "outputs": [
    {
     "name": "stdout",
     "output_type": "stream",
     "text": [
      "교환할 돈은 얼마?: 139526\n",
      "50000원 2개, 10000원 3개, 5000원 1개, 1000원 4개, 500원 1개, 100원 0개, 50원 0개, 10원 2개\n",
      "바꾸지 못한 돈 ==> 6원\n"
     ]
    }
   ],
   "source": [
    "money=int(input('교환할 돈은 얼마?: '))\n",
    "count_50000=money // 50000\n",
    "money=money % 50000\n",
    "count_10000=money // 10000\n",
    "money=money % 10000\n",
    "count_5000=money // 5000\n",
    "money=money % 5000\n",
    "count_1000=money // 1000\n",
    "money=money % 1000\n",
    "count_500=money // 500\n",
    "money=money % 500\n",
    "count_100=money // 100\n",
    "money=money % 100\n",
    "count_50=money // 50\n",
    "money=money % 50\n",
    "count_10=money // 10\n",
    "money=money % 10\n",
    "\n",
    "print('50000원 %d개, 10000원 %d개, 5000원 %d개, 1000원 %d개, 500원 %d개, 100원 %d개, 50원 %d개, 10원 %d개'\n",
    "      %(count_50000,count_10000,count_5000,count_1000,count_500,count_100,count_50,count_10))\n",
    "print('바꾸지 못한 돈 ==> %d원'%(money))"
   ]
  },
  {
   "cell_type": "code",
   "execution_count": null,
   "id": "13056804",
   "metadata": {},
   "outputs": [],
   "source": []
  },
  {
   "cell_type": "code",
   "execution_count": null,
   "id": "5563848c",
   "metadata": {},
   "outputs": [],
   "source": [
    "1"
   ]
  }
 ],
 "metadata": {
  "kernelspec": {
   "display_name": "Python 3",
   "language": "python",
   "name": "python3"
  },
  "language_info": {
   "codemirror_mode": {
    "name": "ipython",
    "version": 3
   },
   "file_extension": ".py",
   "mimetype": "text/x-python",
   "name": "python",
   "nbconvert_exporter": "python",
   "pygments_lexer": "ipython3",
   "version": "3.8.8"
  }
 },
 "nbformat": 4,
 "nbformat_minor": 5
}
